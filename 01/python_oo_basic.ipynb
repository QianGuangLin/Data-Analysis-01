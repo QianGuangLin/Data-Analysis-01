{
 "cells": [
  {
   "cell_type": "code",
   "execution_count": 1,
   "metadata": {},
   "outputs": [
    {
     "name": "stdout",
     "output_type": "stream",
     "text": [
      "100\n",
      "hello : 100\n",
      "\n",
      "1884516679352\n",
      "1884516679352\n",
      "hey : 100\n"
     ]
    }
   ],
   "source": [
    "class MyClass:\n",
    "    def __init__(self, val): # 初始化函数\n",
    "        self.val = val\n",
    "    \n",
    "    def display(self,s):\n",
    "        print('%s : %d' % (s , self.val))\n",
    "        \n",
    "m = MyClass(100)\n",
    "print(m.val)\n",
    "m.display('hello') # => display(m , 'hello')\n",
    "print('')\n",
    "\n",
    "m2 = m\n",
    "print(id(m))\n",
    "print(id(m2))\n",
    "\n",
    "fn = m.display\n",
    "fn('hey')\n",
    "\n",
    "        "
   ]
  }
 ],
 "metadata": {
  "kernelspec": {
   "display_name": "Python 3",
   "language": "python",
   "name": "python3"
  },
  "language_info": {
   "codemirror_mode": {
    "name": "ipython",
    "version": 3
   },
   "file_extension": ".py",
   "mimetype": "text/x-python",
   "name": "python",
   "nbconvert_exporter": "python",
   "pygments_lexer": "ipython3",
   "version": "3.7.0"
  }
 },
 "nbformat": 4,
 "nbformat_minor": 2
}
