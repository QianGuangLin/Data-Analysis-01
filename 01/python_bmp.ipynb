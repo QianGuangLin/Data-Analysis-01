{
 "cells": [
  {
   "cell_type": "code",
   "execution_count": 1,
   "metadata": {},
   "outputs": [
    {
     "name": "stdout",
     "output_type": "stream",
     "text": [
      "(b'B', b'M', 946554, 0, 54, 40, 500, 631, 1, 24)\n",
      "图片大小： 54 \n",
      "header字节数： 40 \n",
      "宽度： 500 \n",
      "高度: 631 \n",
      "颜色数： 24 \n"
     ]
    }
   ],
   "source": [
    "import struct\n",
    "\n",
    "with open('sample.bmp','rb') as f:\n",
    "    header = struct.unpack('<2c6I2H',f.read(30))\n",
    "    print(header)\n",
    "    print('图片大小： %d ' % header[4])\n",
    "    print('header字节数： %d ' % header[5])\n",
    "    print('宽度： %d ' % header[6])\n",
    "    print('高度: %d ' % header[7])\n",
    "    print('颜色数： %d ' % header[9])\n",
    "\n"
   ]
  }
 ],
 "metadata": {
  "kernelspec": {
   "display_name": "Python 3",
   "language": "python",
   "name": "python3"
  },
  "language_info": {
   "codemirror_mode": {
    "name": "ipython",
    "version": 3
   },
   "file_extension": ".py",
   "mimetype": "text/x-python",
   "name": "python",
   "nbconvert_exporter": "python",
   "pygments_lexer": "ipython3",
   "version": "3.7.0"
  }
 },
 "nbformat": 4,
 "nbformat_minor": 2
}
