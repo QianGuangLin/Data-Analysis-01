{
 "cells": [
  {
   "cell_type": "code",
   "execution_count": 4,
   "metadata": {},
   "outputs": [
    {
     "name": "stdout",
     "output_type": "stream",
     "text": [
      "用数组生成Series\n",
      "0    4\n",
      "1    7\n",
      "2   -5\n",
      "3    3\n",
      "dtype: int64\n",
      "[ 4  7 -5  3]\n",
      "RangeIndex(start=0, stop=4, step=1)\n",
      "\n"
     ]
    }
   ],
   "source": [
    "from pandas import Series\n",
    "\n",
    "print('用数组生成Series')\n",
    "obj = Series([4,7,-5,3])\n",
    "print(obj)\n",
    "print(obj.values)\n",
    "print(obj.index)\n",
    "print('')\n"
   ]
  },
  {
   "cell_type": "code",
   "execution_count": 6,
   "metadata": {},
   "outputs": [
    {
     "name": "stdout",
     "output_type": "stream",
     "text": [
      "指定Series的index\n",
      "d    4\n",
      "b    7\n",
      "a   -5\n",
      "c    3\n",
      "dtype: int64\n",
      "Index(['d', 'b', 'a', 'c'], dtype='object')\n",
      "-5\n",
      "c    3\n",
      "a   -5\n",
      "d    6\n",
      "dtype: int64\n",
      "d    6\n",
      "b    7\n",
      "c    3\n",
      "dtype: int64\n",
      "True\n",
      "False\n",
      "\n"
     ]
    }
   ],
   "source": [
    "print('指定Series的index')\n",
    "obj2 = Series([4,7,-5,3], index=['d', 'b', 'a', 'c'])\n",
    "print(obj2)\n",
    "print(obj2.index)\n",
    "print(obj2['a'])\n",
    "obj2['d'] = 6\n",
    "print(obj2[['c','a','d']])\n",
    "print(obj2[obj2 > 0]) # 找出大于0的元素\n",
    "print('b' in obj2) # 判断索引是否存在\n",
    "print('e' in obj2)\n",
    "print('')\n"
   ]
  },
  {
   "cell_type": "code",
   "execution_count": 8,
   "metadata": {},
   "outputs": [
    {
     "name": "stdout",
     "output_type": "stream",
     "text": [
      "使用字典生成Series\n",
      "Ohio      45000\n",
      "Texas     71000\n",
      "Oregon    16000\n",
      "Utah       5000\n",
      "dtype: int64\n",
      "\n"
     ]
    }
   ],
   "source": [
    "print('使用字典生成Series')\n",
    "sdata = {'Ohio': 45000, 'Texas': 71000, 'Oregon': 16000, 'Utah': 5000}\n",
    "obj3 = Series(sdata)\n",
    "print(obj3)\n",
    "print('')"
   ]
  },
  {
   "cell_type": "code",
   "execution_count": 9,
   "metadata": {},
   "outputs": [
    {
     "name": "stdout",
     "output_type": "stream",
     "text": [
      "使用字典生成Series，并额外指定index，不匹配部门为NaN\n",
      "California        NaN\n",
      "Ohio          45000.0\n",
      "Oregon        16000.0\n",
      "Texas         71000.0\n",
      "dtype: float64\n",
      "\n"
     ]
    }
   ],
   "source": [
    "print('使用字典生成Series，并额外指定index，不匹配部门为NaN')\n",
    "states = ['California', 'Ohio', 'Oregon', 'Texas']\n",
    "obj4 = Series(sdata, index = states)\n",
    "print(obj4)\n",
    "print('')"
   ]
  },
  {
   "cell_type": "code",
   "execution_count": 10,
   "metadata": {},
   "outputs": [
    {
     "name": "stdout",
     "output_type": "stream",
     "text": [
      "Series相加，相同索引部分相加\n",
      "California         NaN\n",
      "Ohio           90000.0\n",
      "Oregon         32000.0\n",
      "Texas         142000.0\n",
      "Utah               NaN\n",
      "dtype: float64\n",
      "\n"
     ]
    }
   ],
   "source": [
    "print('Series相加，相同索引部分相加')\n",
    "print(obj3 + obj4)\n",
    "print('')\n"
   ]
  },
  {
   "cell_type": "code",
   "execution_count": 11,
   "metadata": {},
   "outputs": [
    {
     "name": "stdout",
     "output_type": "stream",
     "text": [
      "指定Series及其索引的名字\n",
      "state\n",
      "California        NaN\n",
      "Ohio          45000.0\n",
      "Oregon        16000.0\n",
      "Texas         71000.0\n",
      "Name: population, dtype: float64\n",
      "\n"
     ]
    }
   ],
   "source": [
    "print('指定Series及其索引的名字')\n",
    "obj4.name = 'population'\n",
    "obj4.index.name = 'state'\n",
    "print(obj4)\n",
    "print('')\n"
   ]
  },
  {
   "cell_type": "code",
   "execution_count": 12,
   "metadata": {},
   "outputs": [
    {
     "name": "stdout",
     "output_type": "stream",
     "text": [
      "替换index\n",
      "Bob      4\n",
      "Steve    7\n",
      "Jeff    -5\n",
      "Ryan     3\n",
      "dtype: int64\n"
     ]
    }
   ],
   "source": [
    "print('替换index')\n",
    "obj.index = ['Bob', 'Steve', 'Jeff', 'Ryan']\n",
    "print(obj)\n"
   ]
  }
 ],
 "metadata": {
  "kernelspec": {
   "display_name": "Python 3",
   "language": "python",
   "name": "python3"
  },
  "language_info": {
   "codemirror_mode": {
    "name": "ipython",
    "version": 3
   },
   "file_extension": ".py",
   "mimetype": "text/x-python",
   "name": "python",
   "nbconvert_exporter": "python",
   "pygments_lexer": "ipython3",
   "version": "3.7.0"
  }
 },
 "nbformat": 4,
 "nbformat_minor": 2
}
