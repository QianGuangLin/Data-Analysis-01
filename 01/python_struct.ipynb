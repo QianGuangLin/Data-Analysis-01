{
 "cells": [
  {
   "cell_type": "code",
   "execution_count": 1,
   "metadata": {},
   "outputs": [
    {
     "name": "stdout",
     "output_type": "stream",
     "text": [
      "b'\\x00\\x10\\x08\\x00'\n",
      "b'\\x00\\x9c@@'\n",
      "(10240064, 31872)\n"
     ]
    }
   ],
   "source": [
    "import struct\n",
    "\n",
    "# pack 和 unpack\n",
    "# '>' 代表big-endian编码\n",
    "# 'I' 代表4个字节的整数\n",
    "# 'H' 代表2字节的无符号整数\n",
    "print(struct.pack('> I', 1050624))\n",
    "print(struct.pack('> I', 10240064))\n",
    "print(struct.unpack('> IH', b'\\x00\\x9c\\x40\\x40\\x7c\\x80'))\n"
   ]
  }
 ],
 "metadata": {
  "kernelspec": {
   "display_name": "Python 3",
   "language": "python",
   "name": "python3"
  },
  "language_info": {
   "codemirror_mode": {
    "name": "ipython",
    "version": 3
   },
   "file_extension": ".py",
   "mimetype": "text/x-python",
   "name": "python",
   "nbconvert_exporter": "python",
   "pygments_lexer": "ipython3",
   "version": "3.7.0"
  }
 },
 "nbformat": 4,
 "nbformat_minor": 2
}
