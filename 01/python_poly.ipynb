{
 "cells": [
  {
   "cell_type": "code",
   "execution_count": 1,
   "metadata": {},
   "outputs": [
    {
     "name": "stdout",
     "output_type": "stream",
     "text": [
      "True\n",
      "True\n",
      "\n"
     ]
    }
   ],
   "source": [
    "class Base:\n",
    "    pass\n",
    "\n",
    "class MyClass(Base):\n",
    "    def run(self):\n",
    "        print('MyClass run')\n",
    "        \n",
    "class MyClass2(Base):\n",
    "    def run(self):\n",
    "        print('MyClass2 run')\n",
    "        \n",
    "m = MyClass()\n",
    "print(isinstance(m,MyClass))\n",
    "print(issubclass(MyClass2,Base))\n",
    "print('')\n",
    "\n"
   ]
  },
  {
   "cell_type": "code",
   "execution_count": 3,
   "metadata": {},
   "outputs": [
    {
     "name": "stdout",
     "output_type": "stream",
     "text": [
      "MyClass run\n",
      "MyClass2 run\n",
      "\n",
      "Man run\n",
      "Monkey run\n"
     ]
    }
   ],
   "source": [
    "# 多态\n",
    "m2 = MyClass2()\n",
    "m.run()\n",
    "m2.run()\n",
    "print('')\n",
    "\n",
    "def duck(d):\n",
    "    d.run()\n",
    "\n",
    "class Man:\n",
    "    def run(self):\n",
    "        print('Man run')\n",
    "        \n",
    "class Monkey:\n",
    "    def run(self):\n",
    "        print('Monkey run')\n",
    "    \n",
    "duck(Man())\n",
    "duck(Monkey())\n"
   ]
  }
 ],
 "metadata": {
  "kernelspec": {
   "display_name": "Python 3",
   "language": "python",
   "name": "python3"
  },
  "language_info": {
   "codemirror_mode": {
    "name": "ipython",
    "version": 3
   },
   "file_extension": ".py",
   "mimetype": "text/x-python",
   "name": "python",
   "nbconvert_exporter": "python",
   "pygments_lexer": "ipython3",
   "version": "3.7.0"
  }
 },
 "nbformat": 4,
 "nbformat_minor": 2
}
