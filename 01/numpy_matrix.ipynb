{
 "cells": [
  {
   "cell_type": "code",
   "execution_count": 1,
   "metadata": {},
   "outputs": [
    {
     "name": "stdout",
     "output_type": "stream",
     "text": [
      "2 500\n"
     ]
    }
   ],
   "source": [
    "import numpy as np\n",
    "import numpy.linalg as la\n",
    "import time\n",
    "\n",
    "X = np.array([range(0, 500), range(500, 1000)])\n",
    "m, n = X.shape\n",
    "print(m, n)"
   ]
  },
  {
   "cell_type": "code",
   "execution_count": 2,
   "metadata": {},
   "outputs": [
    {
     "name": "stdout",
     "output_type": "stream",
     "text": [
      "5.747263193130493\n"
     ]
    }
   ],
   "source": [
    "'''\n",
    "D(i, j) = ||xi - xj||^2\n",
    "'''\n",
    "t = time.time()\n",
    "D = np.zeros([n, n])\n",
    "for i in range(n):\n",
    "    for j in range(i + 1, n):\n",
    "        D[i, j] = la.norm(X[:, i] - X[:, j]) ** 2\n",
    "        D[j, i] = D[i, j]\n",
    "print(time.time() - t)\n"
   ]
  },
  {
   "cell_type": "code",
   "execution_count": 3,
   "metadata": {},
   "outputs": [
    {
     "name": "stdout",
     "output_type": "stream",
     "text": [
      "2.3946659564971924\n"
     ]
    }
   ],
   "source": [
    "'''\n",
    "|xi - xi| = sqrt((xi - xj) * (xi - xj).T)\n",
    "D(i, j) = (xi - xj) * (xi - xj).T\n",
    "'''\n",
    "t = time.time()\n",
    "D = np.zeros([n, n])\n",
    "for i in range(n):\n",
    "    for j in range(i + 1, n):\n",
    "        d = X[:, i] - X[:, j]\n",
    "        D[i, j] = np.dot(d, d)\n",
    "        D[j, i] = D[i, j]\n",
    "print(time.time() - t)"
   ]
  },
  {
   "cell_type": "code",
   "execution_count": 4,
   "metadata": {},
   "outputs": [
    {
     "name": "stdout",
     "output_type": "stream",
     "text": [
      "0.7453711032867432\n"
     ]
    }
   ],
   "source": [
    "'''\n",
    "D(i, j) = (xi - xj) * (xi - xj).T\n",
    "        = xi * xi.T - xi * xj.T - xj * xi.T + xj * xj.T\n",
    "        = xi * xi.T - 2 * xi * xj.T + xj * xj.T\n",
    "G(i,j) = xi.T * xj\n",
    "'''\n",
    "t = time.time()\n",
    "G = np.dot(X.T, X)\n",
    "D = np.zeros([n, n])\n",
    "for i in range(n):\n",
    "    for j in range(i + 1, n):\n",
    "        D[i, j] = G[i, i] - G[i, j] * 2 + G[j,j]\n",
    "        D[j, i] = D[i, j]\n",
    "print(time.time() - t)"
   ]
  },
  {
   "cell_type": "code",
   "execution_count": 5,
   "metadata": {},
   "outputs": [
    {
     "name": "stdout",
     "output_type": "stream",
     "text": [
      "0.04074215888977051\n"
     ]
    }
   ],
   "source": [
    "'''\n",
    "H(i, j) = G(i, i)\n",
    "K(i, j) = G(j, j) = H(i, j).T\n",
    "D(i, j) = H(i, j) + K(i, j) - 2 * G(i, j)\n",
    "'''\n",
    "t = time.time()\n",
    "G = np.dot(X.T, X)\n",
    "H = np.tile(np.diag(G), (n, 1)) # n rows, 1 for each row\n",
    "D = H + H.T - G * 2\n",
    "print(time.time() - t)"
   ]
  }
 ],
 "metadata": {
  "kernelspec": {
   "display_name": "Python 3",
   "language": "python",
   "name": "python3"
  },
  "language_info": {
   "codemirror_mode": {
    "name": "ipython",
    "version": 3
   },
   "file_extension": ".py",
   "mimetype": "text/x-python",
   "name": "python",
   "nbconvert_exporter": "python",
   "pygments_lexer": "ipython3",
   "version": "3.7.0"
  }
 },
 "nbformat": 4,
 "nbformat_minor": 2
}
