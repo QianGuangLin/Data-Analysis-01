{
 "cells": [
  {
   "cell_type": "code",
   "execution_count": 8,
   "metadata": {},
   "outputs": [
    {
     "name": "stdout",
     "output_type": "stream",
     "text": [
      "          0         1         2\n",
      "0  0.208798  0.000000  0.000000\n",
      "1  0.165818  0.000000  0.000000\n",
      "2  1.124812  0.000000  0.000000\n",
      "3 -0.172960  0.000000 -0.223088\n",
      "4 -0.504632  0.000000  0.134460\n",
      "5 -0.509564 -0.413562  0.074742\n",
      "6  2.095337  0.989182  1.111713\n",
      "          0         1         2\n",
      "0  0.208798  0.000000  0.000000\n",
      "1  0.165818  0.000000  0.000000\n",
      "2  1.124812  0.000000  0.000000\n",
      "3 -0.172960  0.000000 -0.223088\n",
      "4 -0.504632  0.000000  0.134460\n",
      "5 -0.509564 -0.413562  0.074742\n",
      "6  2.095337  0.989182  1.111713\n",
      "\n"
     ]
    }
   ],
   "source": [
    "import numpy as np\n",
    "from numpy import nan as NA\n",
    "import pandas as pd\n",
    "from pandas import Series,DataFrame,Index\n",
    "\n",
    "# 填充0\n",
    "df = DataFrame(np.random.randn(7, 3))\n",
    "df.loc[:4, 1] = NA\n",
    "df.loc[:2, 2] = NA\n",
    "print(df.fillna(0))\n",
    "df.fillna(0, inplace = True)\n",
    "print(df)\n",
    "print('')\n"
   ]
  },
  {
   "cell_type": "code",
   "execution_count": 9,
   "metadata": {},
   "outputs": [
    {
     "name": "stdout",
     "output_type": "stream",
     "text": [
      "          0         1         2\n",
      "0  0.208798  0.000000  0.000000\n",
      "1  0.165818  0.000000  0.000000\n",
      "2  1.124812  0.000000  0.000000\n",
      "3 -0.172960  0.000000 -0.223088\n",
      "4 -0.504632  0.000000  0.134460\n",
      "5 -0.509564 -0.413562  0.074742\n",
      "6  2.095337  0.989182  1.111713\n",
      "\n"
     ]
    }
   ],
   "source": [
    "# 不同行列填充不同的值\n",
    "print(df.fillna({1:0.5, 3:-1}))  # 第3列不存在\n",
    "print('')"
   ]
  },
  {
   "cell_type": "code",
   "execution_count": 12,
   "metadata": {},
   "outputs": [
    {
     "name": "stdout",
     "output_type": "stream",
     "text": [
      "          0         1         2\n",
      "0  0.337305  1.033204  0.177252\n",
      "1  1.086723 -0.141486 -0.613048\n",
      "2  1.865541       NaN -1.414803\n",
      "3 -0.909395       NaN -0.202278\n",
      "4 -0.256592       NaN       NaN\n",
      "5 -0.351234       NaN       NaN\n",
      "          0         1         2\n",
      "0  0.337305  1.033204  0.177252\n",
      "1  1.086723 -0.141486 -0.613048\n",
      "2  1.865541 -0.141486 -1.414803\n",
      "3 -0.909395 -0.141486 -0.202278\n",
      "4 -0.256592 -0.141486 -0.202278\n",
      "5 -0.351234 -0.141486 -0.202278\n",
      "          0         1         2\n",
      "0  0.337305  1.033204  0.177252\n",
      "1  1.086723 -0.141486 -0.613048\n",
      "2  1.865541 -0.141486 -1.414803\n",
      "3 -0.909395 -0.141486 -0.202278\n",
      "4 -0.256592       NaN -0.202278\n",
      "5 -0.351234       NaN -0.202278\n",
      "\n"
     ]
    }
   ],
   "source": [
    "# 不同的填充方式\n",
    "df = DataFrame(np.random.randn(6,3))\n",
    "df.loc[2:, 1] = NA\n",
    "df.loc[4:, 2] = NA\n",
    "print(df)\n",
    "print(df.fillna(method = 'ffill'))\n",
    "print(df.fillna(method = 'ffill', limit = 2))\n",
    "print('')"
   ]
  },
  {
   "cell_type": "code",
   "execution_count": 13,
   "metadata": {},
   "outputs": [
    {
     "name": "stdout",
     "output_type": "stream",
     "text": [
      "0    1.000000\n",
      "1    3.833333\n",
      "2    3.500000\n",
      "3    3.833333\n",
      "4    7.000000\n",
      "dtype: float64\n"
     ]
    }
   ],
   "source": [
    "# 用统计数据填充\n",
    "data = Series([1., NA, 3.5, NA, 7])\n",
    "print(data.fillna(data.mean()))"
   ]
  }
 ],
 "metadata": {
  "kernelspec": {
   "display_name": "Python 3",
   "language": "python",
   "name": "python3"
  },
  "language_info": {
   "codemirror_mode": {
    "name": "ipython",
    "version": 3
   },
   "file_extension": ".py",
   "mimetype": "text/x-python",
   "name": "python",
   "nbconvert_exporter": "python",
   "pygments_lexer": "ipython3",
   "version": "3.7.0"
  }
 },
 "nbformat": 4,
 "nbformat_minor": 2
}
