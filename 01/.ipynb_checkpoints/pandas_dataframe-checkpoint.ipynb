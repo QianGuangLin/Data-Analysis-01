{
 "cells": [
  {
   "cell_type": "code",
   "execution_count": 15,
   "metadata": {},
   "outputs": [
    {
     "name": "stdout",
     "output_type": "stream",
     "text": [
      "    state  year  pop\n",
      "0    Ohio  2000  1.5\n",
      "1    Ohio  2001  1.7\n",
      "2    Ohio  2002  3.6\n",
      "3  Nevada  2001  2.4\n",
      "4  Nevada  2002  2.9\n",
      "   year   state  pop\n",
      "0  2000    Ohio  1.5\n",
      "1  2001    Ohio  1.7\n",
      "2  2002    Ohio  3.6\n",
      "3  2001  Nevada  2.4\n",
      "4  2002  Nevada  2.9\n",
      "\n"
     ]
    }
   ],
   "source": [
    "import numpy as np\n",
    "from pandas import Series, DataFrame\n",
    "\n",
    "# 用字典生成DataFrame, key为列的名字\n",
    "data = {'state':['Ohio', 'Ohio', 'Ohio', 'Nevada', 'Nevada'],\n",
    "        'year':[2000, 2001, 2002, 2001, 2002],\n",
    "        'pop':[1.5, 1.7, 3.6, 2.4, 2.9]}\n",
    "print(DataFrame(data))\n",
    "print(DataFrame(data, columns = ['year', 'state', 'pop'])) # 指定列顺序\n",
    "print('')\n"
   ]
  },
  {
   "cell_type": "code",
   "execution_count": 17,
   "metadata": {},
   "outputs": [
    {
     "name": "stdout",
     "output_type": "stream",
     "text": [
      "      years   state  pop debt\n",
      "one     NaN    Ohio  1.5  NaN\n",
      "two     NaN    Ohio  1.7  NaN\n",
      "three   NaN    Ohio  3.6  NaN\n",
      "four    NaN  Nevada  2.4  NaN\n",
      "five    NaN  Nevada  2.9  NaN\n",
      "one        Ohio\n",
      "two        Ohio\n",
      "three      Ohio\n",
      "four     Nevada\n",
      "five     Nevada\n",
      "Name: state, dtype: object\n",
      "one      NaN\n",
      "two      NaN\n",
      "three    NaN\n",
      "four     NaN\n",
      "five     NaN\n",
      "Name: years, dtype: object\n",
      "years     NaN\n",
      "state    Ohio\n",
      "pop       3.6\n",
      "debt      NaN\n",
      "Name: three, dtype: object\n",
      "      years   state  pop  debt\n",
      "one     NaN    Ohio  1.5  16.5\n",
      "two     NaN    Ohio  1.7  16.5\n",
      "three   NaN    Ohio  3.6  16.5\n",
      "four    NaN  Nevada  2.4  16.5\n",
      "five    NaN  Nevada  2.9  16.5\n",
      "      years   state  pop  debt\n",
      "one     NaN    Ohio  1.5     0\n",
      "two     NaN    Ohio  1.7     1\n",
      "three   NaN    Ohio  3.6     2\n",
      "four    NaN  Nevada  2.4     3\n",
      "five    NaN  Nevada  2.9     4\n",
      "\n"
     ]
    },
    {
     "name": "stderr",
     "output_type": "stream",
     "text": [
      "C:\\Users\\QianGuang Lin\\Anaconda3\\lib\\site-packages\\ipykernel_launcher.py:9: DeprecationWarning: \n",
      ".ix is deprecated. Please use\n",
      ".loc for label based indexing or\n",
      ".iloc for positional indexing\n",
      "\n",
      "See the documentation here:\n",
      "http://pandas.pydata.org/pandas-docs/stable/indexing.html#ix-indexer-is-deprecated\n",
      "  if __name__ == '__main__':\n"
     ]
    }
   ],
   "source": [
    "# 指定索引，在列中指定不存在的列，默认数据用NaN\n",
    "frame2 = DataFrame(data,\n",
    "                      columns = ['years', 'state', 'pop', 'debt'],\n",
    "                      index = ['one', 'two', 'three', 'four', 'five']\n",
    "                  )\n",
    "print(frame2)\n",
    "print(frame2['state'])\n",
    "print(frame2.years)\n",
    "print(frame2.ix['three'])\n",
    "frame2['debt'] = 16.5 # 修改一整列\n",
    "print(frame2)\n",
    "frame2.debt = np.arange(5) # 用numpy数组修改元素\n",
    "print(frame2)\n",
    "print('')"
   ]
  },
  {
   "cell_type": "code",
   "execution_count": 18,
   "metadata": {},
   "outputs": [
    {
     "name": "stdout",
     "output_type": "stream",
     "text": [
      "      years   state  pop  debt\n",
      "one     NaN    Ohio  1.5   NaN\n",
      "two     NaN    Ohio  1.7  -2.0\n",
      "three   NaN    Ohio  3.6   NaN\n",
      "four    NaN  Nevada  2.4  -1.5\n",
      "five    NaN  Nevada  2.9  -1.7\n",
      "\n"
     ]
    }
   ],
   "source": [
    "# 用Series指定要修改的索引及其对应的值，没有指定的默认数据用NaN\n",
    "val = Series([-2,-1.5,-1.7], index = ['two', 'four', 'five'])\n",
    "frame2['debt'] = val\n",
    "print(frame2)\n",
    "print('')"
   ]
  },
  {
   "cell_type": "code",
   "execution_count": 19,
   "metadata": {},
   "outputs": [
    {
     "name": "stdout",
     "output_type": "stream",
     "text": [
      "      years   state  pop  debt  eastern\n",
      "one     NaN    Ohio  1.5   NaN     True\n",
      "two     NaN    Ohio  1.7  -2.0     True\n",
      "three   NaN    Ohio  3.6   NaN     True\n",
      "four    NaN  Nevada  2.4  -1.5    False\n",
      "five    NaN  Nevada  2.9  -1.7    False\n",
      "Index(['years', 'state', 'pop', 'debt', 'eastern'], dtype='object')\n",
      "\n"
     ]
    }
   ],
   "source": [
    "# 赋值给新列\n",
    "frame2['eastern'] = (frame2.state == 'Ohio') # 如果state等于Ohio为True\n",
    "print(frame2)\n",
    "print(frame2.columns) # 列\n",
    "print('')"
   ]
  }
 ],
 "metadata": {
  "kernelspec": {
   "display_name": "Python 3",
   "language": "python",
   "name": "python3"
  },
  "language_info": {
   "codemirror_mode": {
    "name": "ipython",
    "version": 3
   },
   "file_extension": ".py",
   "mimetype": "text/x-python",
   "name": "python",
   "nbconvert_exporter": "python",
   "pygments_lexer": "ipython3",
   "version": "3.7.0"
  }
 },
 "nbformat": 4,
 "nbformat_minor": 2
}
