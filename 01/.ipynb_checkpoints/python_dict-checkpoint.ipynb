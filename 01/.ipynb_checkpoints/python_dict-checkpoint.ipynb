{
 "cells": [
  {
   "cell_type": "code",
   "execution_count": 9,
   "metadata": {},
   "outputs": [
    {
     "name": "stdout",
     "output_type": "stream",
     "text": [
      "{'a': 1, 2: 'b', 'c': 3, 4: 'd'}\n",
      "\n"
     ]
    }
   ],
   "source": [
    "# 初始化\n",
    "d = {'a':1, 2:'b', 'c':3, 4:'d'}\n",
    "print(d)\n",
    "print('')"
   ]
  },
  {
   "cell_type": "code",
   "execution_count": 10,
   "metadata": {},
   "outputs": [
    {
     "name": "stdout",
     "output_type": "stream",
     "text": [
      "4\n",
      "\n"
     ]
    }
   ],
   "source": [
    "# 获取长度\n",
    "print(len(d))\n",
    "print('')"
   ]
  },
  {
   "cell_type": "code",
   "execution_count": 11,
   "metadata": {},
   "outputs": [
    {
     "name": "stdout",
     "output_type": "stream",
     "text": [
      "{'a': 100, 2: 'b', 'c': 3, 4: 'dd'}\n",
      "\n"
     ]
    }
   ],
   "source": [
    "# 根据key读写\n",
    "d['a'] = 100\n",
    "d[4] = 'dd'\n",
    "print(d)\n",
    "print('')"
   ]
  },
  {
   "cell_type": "code",
   "execution_count": 12,
   "metadata": {},
   "outputs": [
    {
     "name": "stdout",
     "output_type": "stream",
     "text": [
      "{'a': 100, 2: 'b', 'c': 3, 4: 'dd', 'e': 5, 6: 'f'}\n",
      "\n"
     ]
    }
   ],
   "source": [
    "# 添加元素\n",
    "d['e'] = 5\n",
    "d[6] = 'f'\n",
    "print(d)\n",
    "print('')"
   ]
  },
  {
   "cell_type": "code",
   "execution_count": 13,
   "metadata": {},
   "outputs": [
    {
     "name": "stdout",
     "output_type": "stream",
     "text": [
      "{'c': 3, 4: 'd'}\n",
      "\n"
     ]
    }
   ],
   "source": [
    "# 删除元素\n",
    "d = {'a':1, 2:'b', 'c':3, 4:'d'}\n",
    "del(d['a'])\n",
    "del(d[2])\n",
    "print(d)\n",
    "print('')"
   ]
  },
  {
   "cell_type": "code",
   "execution_count": 14,
   "metadata": {},
   "outputs": [
    {
     "name": "stdout",
     "output_type": "stream",
     "text": [
      "a in d\n",
      "2 in d\n",
      "x not in d\n",
      "\n"
     ]
    }
   ],
   "source": [
    "# 判断key是否存在\n",
    "d = {'a':1, 2:'b', 'c':3, 4:'d'}\n",
    "if 'a' in d:\n",
    "    print('a in d')\n",
    "if 2 in d:\n",
    "    print('2 in d')\n",
    "if not ('x' in d):\n",
    "    print('x not in d')\n",
    "print('')"
   ]
  },
  {
   "cell_type": "code",
   "execution_count": 15,
   "metadata": {},
   "outputs": [
    {
     "name": "stdout",
     "output_type": "stream",
     "text": [
      "d is empty\n",
      "\n"
     ]
    }
   ],
   "source": [
    "# 判断字典是否为空\n",
    "d = {}\n",
    "if not d:\n",
    "    print('d is empty')\n",
    "print('')"
   ]
  },
  {
   "cell_type": "code",
   "execution_count": 16,
   "metadata": {},
   "outputs": [
    {
     "name": "stdout",
     "output_type": "stream",
     "text": [
      "a: 1\n",
      "2: b\n",
      "c: 3\n",
      "4: d\n",
      "a: 1\n",
      "2: b\n",
      "c: 3\n",
      "4: d\n"
     ]
    }
   ],
   "source": [
    "# 遍历\n",
    "d = {'a':1, 2:'b', 'c':3, 4:'d'}\n",
    "for k in d.keys():\n",
    "    print(str(k) + ': ' + str(d[k]))\n",
    "for k, v in d.items():\n",
    "    print(str(k) + ': ' + str(v))"
   ]
  },
  {
   "cell_type": "code",
   "execution_count": null,
   "metadata": {},
   "outputs": [],
   "source": []
  }
 ],
 "metadata": {
  "kernelspec": {
   "display_name": "Python 3",
   "language": "python",
   "name": "python3"
  },
  "language_info": {
   "codemirror_mode": {
    "name": "ipython",
    "version": 3
   },
   "file_extension": ".py",
   "mimetype": "text/x-python",
   "name": "python",
   "nbconvert_exporter": "python",
   "pygments_lexer": "ipython3",
   "version": "3.7.0"
  }
 },
 "nbformat": 4,
 "nbformat_minor": 2
}
