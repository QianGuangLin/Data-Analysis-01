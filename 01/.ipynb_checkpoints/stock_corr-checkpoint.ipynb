{
 "cells": [
  {
   "cell_type": "code",
   "execution_count": 1,
   "metadata": {},
   "outputs": [
    {
     "ename": "ModuleNotFoundError",
     "evalue": "No module named 'tushare'",
     "output_type": "error",
     "traceback": [
      "\u001b[1;31m---------------------------------------------------------------------------\u001b[0m",
      "\u001b[1;31mModuleNotFoundError\u001b[0m                       Traceback (most recent call last)",
      "\u001b[1;32m<ipython-input-1-cffac4586dcd>\u001b[0m in \u001b[0;36m<module>\u001b[1;34m()\u001b[0m\n\u001b[0;32m      2\u001b[0m \u001b[1;32mimport\u001b[0m \u001b[0mnumpy\u001b[0m \u001b[1;32mas\u001b[0m \u001b[0mnp\u001b[0m\u001b[1;33m\u001b[0m\u001b[0m\n\u001b[0;32m      3\u001b[0m \u001b[1;32mimport\u001b[0m \u001b[0mpandas\u001b[0m \u001b[1;32mas\u001b[0m \u001b[0mpd\u001b[0m\u001b[1;33m\u001b[0m\u001b[0m\n\u001b[1;32m----> 4\u001b[1;33m \u001b[1;32mimport\u001b[0m \u001b[0mtushare\u001b[0m \u001b[1;32mas\u001b[0m \u001b[0mts\u001b[0m\u001b[1;33m\u001b[0m\u001b[0m\n\u001b[0m\u001b[0;32m      5\u001b[0m \u001b[1;32mimport\u001b[0m \u001b[0mmatplotlib\u001b[0m\u001b[1;33m.\u001b[0m\u001b[0mpyplot\u001b[0m \u001b[1;32mas\u001b[0m \u001b[0mplt\u001b[0m\u001b[1;33m\u001b[0m\u001b[0m\n\u001b[0;32m      6\u001b[0m \u001b[1;33m\u001b[0m\u001b[0m\n",
      "\u001b[1;31mModuleNotFoundError\u001b[0m: No module named 'tushare'"
     ]
    }
   ],
   "source": [
    "# 通过tushare的数据，计算浦发和光大股票价格的相关性\n",
    "import numpy as np\n",
    "import pandas as pd\n",
    "import tushare as ts\n",
    "import matplotlib.pyplot as plt\n",
    "\n",
    "'''\n",
    "从tushare中获取数据\n",
    "'''\n",
    "s_pf = '600000' # 浦发代码\n",
    "s_gd = '601818' # 光大代码\n",
    "sdata = '2018-01-01' # 数据起始时间\n",
    "edata = '2018-12-31' # 数据结束时间\n",
    "\n",
    "'''\n",
    "从tushare获取历史数据,\n",
    "sort_index用于索引排序，axis=0为源着Y轴往下，axis=1为源着X轴往右。\n",
    "ascending = True 为做增长排序（小的在上，大的在下）。\n",
    "'''\n",
    "df_pf = ts.get_h_data(s_pf, start = sdata, end = edata).sort_index(axis = 0, ascending = True)\n",
    "df_gd = ts.get_h_data(s_gd, start = sdata, end = edata).sort_index(axis = 0, ascending = True)\n",
    "\n",
    "# 两张表连接成一张大表，合并到新的df\n",
    "df = pd.concat([df_pf.close, df_gd.close], axis = 1, keys = ['pf_close, gd_close'])\n",
    "\n",
    "# 填充停牌期间数据，缺失数据用前一天数据填充\n",
    "df.ffill(axis = 0, inplace = True)\n",
    "\n",
    "# 保存数据\n",
    "df.to_csv('pf_gd.csv')\n"
   ]
  },
  {
   "cell_type": "code",
   "execution_count": null,
   "metadata": {},
   "outputs": [],
   "source": [
    "# 计算相关性\n",
    "corr = df.corr(method = 'pearson', min_periods = 1)"
   ]
  },
  {
   "cell_type": "code",
   "execution_count": null,
   "metadata": {},
   "outputs": [],
   "source": [
    "# 计算价格曲线\n",
    "df.plot(figsize = (20,12))\n",
    "plt.save('pd_gd.jpg')\n",
    "plt.close\n"
   ]
  }
 ],
 "metadata": {
  "kernelspec": {
   "display_name": "Python 3",
   "language": "python",
   "name": "python3"
  },
  "language_info": {
   "codemirror_mode": {
    "name": "ipython",
    "version": 3
   },
   "file_extension": ".py",
   "mimetype": "text/x-python",
   "name": "python",
   "nbconvert_exporter": "python",
   "pygments_lexer": "ipython3",
   "version": "3.7.0"
  }
 },
 "nbformat": 4,
 "nbformat_minor": 2
}
