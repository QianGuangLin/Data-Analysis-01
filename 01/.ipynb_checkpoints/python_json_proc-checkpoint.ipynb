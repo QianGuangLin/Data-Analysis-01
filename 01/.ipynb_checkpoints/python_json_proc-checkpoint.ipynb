{
 "cells": [
  {
   "cell_type": "code",
   "execution_count": 1,
   "metadata": {},
   "outputs": [
    {
     "name": "stdout",
     "output_type": "stream",
     "text": [
      "{\"Python\": 100, \"C++\": 70, \"Basic\": 60, \"others\": {\"C\": 65, \"Java\": 50}}\n",
      "{'Python': 100, 'C++': 70, 'Basic': 60, 'others': {'C': 65, 'Java': 50}}\n",
      "\n"
     ]
    }
   ],
   "source": [
    "import json\n",
    "\n",
    "d = {'Python':100, 'C++':70, 'Basic':60, 'others':{'C':65, 'Java':50}}\n",
    "jtxt  = json.dumps(d)\n",
    "dd = json.loads(jtxt)\n",
    "print(jtxt)\n",
    "print(dd)\n",
    "print('')"
   ]
  },
  {
   "cell_type": "code",
   "execution_count": 2,
   "metadata": {},
   "outputs": [
    {
     "name": "stdout",
     "output_type": "stream",
     "text": [
      "Tom : 15, 85\n",
      "{'name': 'Tom', 'age': 15, 'score': 85}\n"
     ]
    }
   ],
   "source": [
    "# 非dict对象如何用json序列化？\n",
    "class Student:\n",
    "    def __init__(self, name, age, score):\n",
    "        self.name = name\n",
    "        self.age = age\n",
    "        self.score = score\n",
    "    \n",
    "    def __str__(self):\n",
    "        return '%s : %d, %d' % (self.name, self.age, self.score)\n",
    "    \n",
    "s = Student('Tom', 15, 85)\n",
    "print(s)\n",
    "print(s.__dict__)\n"
   ]
  },
  {
   "cell_type": "code",
   "execution_count": 3,
   "metadata": {},
   "outputs": [
    {
     "name": "stdout",
     "output_type": "stream",
     "text": [
      "{\"name\": \"Tom\", \"age\": 15, \"score\": 85}\n",
      "Tom : 15, 85\n"
     ]
    }
   ],
   "source": [
    "# 方法1\n",
    "jtxt = json.dumps(s, default = lambda obj: obj.__dict__)\n",
    "print(jtxt)\n",
    "def d2s(d):\n",
    "    return Student(d['name'], d['age'], d['score'])\n",
    "print(json.loads(jtxt, object_hook = d2s))\n"
   ]
  },
  {
   "cell_type": "code",
   "execution_count": 4,
   "metadata": {},
   "outputs": [
    {
     "name": "stdout",
     "output_type": "stream",
     "text": [
      "{\"name\": \"Tom\", \"age\": 15, \"score\": 85}\n"
     ]
    }
   ],
   "source": [
    "# 方法2\n",
    "def s2d(s):\n",
    "    return s.__dict__\n",
    "jtxt = json.dumps(s, default = s2d)\n",
    "print(jtxt)"
   ]
  }
 ],
 "metadata": {
  "kernelspec": {
   "display_name": "Python 3",
   "language": "python",
   "name": "python3"
  },
  "language_info": {
   "codemirror_mode": {
    "name": "ipython",
    "version": 3
   },
   "file_extension": ".py",
   "mimetype": "text/x-python",
   "name": "python",
   "nbconvert_exporter": "python",
   "pygments_lexer": "ipython3",
   "version": "3.7.0"
  }
 },
 "nbformat": 4,
 "nbformat_minor": 2
}
