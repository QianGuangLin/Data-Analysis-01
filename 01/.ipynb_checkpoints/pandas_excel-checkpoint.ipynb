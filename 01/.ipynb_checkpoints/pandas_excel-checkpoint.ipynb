{
 "cells": [
  {
   "cell_type": "code",
   "execution_count": 4,
   "metadata": {},
   "outputs": [
    {
     "name": "stdout",
     "output_type": "stream",
     "text": [
      "[3120.0, 2745.0, 30.0, 215.0, 1745.0]\n"
     ]
    }
   ],
   "source": [
    "import pandas as pd\n",
    "\n",
    "def tax(s):\n",
    "    ss = s - 3500\n",
    "    if ss <= 0:\n",
    "        return 0\n",
    "    elif ss < 1500:\n",
    "        return ss * 0.03\n",
    "    elif ss < 4500:\n",
    "        return ss * 0.1 - 105\n",
    "    elif ss < 9000:\n",
    "        return ss * 0.2 -555\n",
    "    elif ss < 35000:\n",
    "        return ss * 0.25 - 1005\n",
    "    elif ss < 55000:\n",
    "        return ss * 0.3 - 2755\n",
    "    elif ss < 80000:\n",
    "        return ss * 0.35 - 5505\n",
    "    else:\n",
    "        return ss * 0.45 - 13505\n",
    "\n",
    "df = pd.read_excel('salary.xlsx',sheet_name = 0)\n",
    "ts = []\n",
    "for s in df['工资']:\n",
    "    ts.append(tax(s))\n",
    "print(ts)\n",
    "df['税'] = ts\n",
    "\n",
    "out = pd.ExcelWriter('salary_and_tax.xlsx')\n",
    "df.to_excel(out)\n",
    "out.save()"
   ]
  }
 ],
 "metadata": {
  "kernelspec": {
   "display_name": "Python 3",
   "language": "python",
   "name": "python3"
  },
  "language_info": {
   "codemirror_mode": {
    "name": "ipython",
    "version": 3
   },
   "file_extension": ".py",
   "mimetype": "text/x-python",
   "name": "python",
   "nbconvert_exporter": "python",
   "pygments_lexer": "ipython3",
   "version": "3.7.0"
  }
 },
 "nbformat": 4,
 "nbformat_minor": 2
}
