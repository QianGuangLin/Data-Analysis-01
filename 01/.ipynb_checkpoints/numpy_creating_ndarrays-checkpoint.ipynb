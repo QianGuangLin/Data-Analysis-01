{
 "cells": [
  {
   "cell_type": "code",
   "execution_count": 1,
   "metadata": {},
   "outputs": [
    {
     "name": "stdout",
     "output_type": "stream",
     "text": [
      "[6.  7.5 8.  0.  1. ]\n",
      "float64\n",
      "\n"
     ]
    }
   ],
   "source": [
    "import numpy as np\n",
    "\n",
    "# 使用普通一维数组生成numpy一维数组\n",
    "data = [6,7.5,8,0,1]\n",
    "arr = np.array(data)\n",
    "print(arr)\n",
    "print(arr.dtype) # 类型\n",
    "print('')\n"
   ]
  },
  {
   "cell_type": "code",
   "execution_count": 2,
   "metadata": {},
   "outputs": [
    {
     "name": "stdout",
     "output_type": "stream",
     "text": [
      "[[1 2 3 4]\n",
      " [5 6 7 8]]\n",
      "(2, 4)\n",
      "\n"
     ]
    }
   ],
   "source": [
    "# 使用普通二维数组生成numpy二维数组\n",
    "data = [[1,2,3,4],[5,6,7,8]]\n",
    "arr = np.array(data)\n",
    "print(arr)\n",
    "print(arr.shape) # 维度\n",
    "print('')\n"
   ]
  },
  {
   "cell_type": "code",
   "execution_count": 3,
   "metadata": {},
   "outputs": [
    {
     "name": "stdout",
     "output_type": "stream",
     "text": [
      "[0. 0. 0. 0. 0. 0. 0. 0. 0. 0.]\n",
      "[[0. 0. 0. 0. 0. 0.]\n",
      " [0. 0. 0. 0. 0. 0.]\n",
      " [0. 0. 0. 0. 0. 0.]]\n",
      "[[[8.82769181e+025 7.36662981e+228]\n",
      "  [7.54894003e+252 2.95479883e+137]\n",
      "  [1.42800637e+248 2.64686750e+180]]\n",
      "\n",
      " [[1.09936856e+248 6.99481925e+228]\n",
      "  [7.54894003e+252 7.67109635e+170]\n",
      "  [2.64686750e+180 5.63234836e-322]]]\n",
      "\n"
     ]
    }
   ],
   "source": [
    "# 使用zeros/empty\n",
    "print(np.zeros(10)) # 生成包含10个0的一维数组\n",
    "print(np.zeros((3, 6))) # 生成3*6的二维数组\n",
    "print(np.empty((2,3,2))) # 生成2*3*2的三维数组，所有元素未初始化\n",
    "print('')\n"
   ]
  },
  {
   "cell_type": "code",
   "execution_count": 4,
   "metadata": {},
   "outputs": [
    {
     "name": "stdout",
     "output_type": "stream",
     "text": [
      "[ 0  1  2  3  4  5  6  7  8  9 10 11 12 13 14]\n"
     ]
    }
   ],
   "source": [
    "# 使用arange生成连续元素\n",
    "print(np.arange(15)) # [0,1,2, ... ,14]\n"
   ]
  }
 ],
 "metadata": {
  "kernelspec": {
   "display_name": "Python 3",
   "language": "python",
   "name": "python3"
  },
  "language_info": {
   "codemirror_mode": {
    "name": "ipython",
    "version": 3
   },
   "file_extension": ".py",
   "mimetype": "text/x-python",
   "name": "python",
   "nbconvert_exporter": "python",
   "pygments_lexer": "ipython3",
   "version": "3.7.0"
  }
 },
 "nbformat": 4,
 "nbformat_minor": 2
}
