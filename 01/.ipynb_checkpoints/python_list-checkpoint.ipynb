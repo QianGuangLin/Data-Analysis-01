{
 "cells": [
  {
   "cell_type": "code",
   "execution_count": 14,
   "metadata": {},
   "outputs": [
    {
     "name": "stdout",
     "output_type": "stream",
     "text": [
      "7\n",
      "\n",
      "1\n",
      "abc\n",
      "{1: 'one'}\n",
      "\n"
     ]
    }
   ],
   "source": [
    "# 初始化列表\n",
    "li = [1, 2, 3, 'abc', 4.5, [2, 3, 4], {1:'one'}]\n",
    "\n",
    "# 获取长度\n",
    "print(len(li))\n",
    "print('')\n",
    "\n",
    "# 根据索引读写\n",
    "print(li[0])\n",
    "print(li[3])\n",
    "print(li[-1])\n",
    "print('')\n"
   ]
  },
  {
   "cell_type": "code",
   "execution_count": 11,
   "metadata": {},
   "outputs": [
    {
     "name": "stdout",
     "output_type": "stream",
     "text": [
      "[1, 2, 3, 'a', 'b']\n",
      "[1, 2, 3, 'a', 'b', [4, 5, 6]]\n",
      "[1, 2, 3, 4, 5, 6]\n",
      "\n"
     ]
    }
   ],
   "source": [
    "# 添加元素\n",
    "li = [1, 2, 3]\n",
    "li.append('a')\n",
    "li.append('b')\n",
    "print(li)\n",
    "li.append([4, 5, 6])\n",
    "print(li)\n",
    "li = [1, 2, 3]\n",
    "li.extend([4, 5, 6])\n",
    "print(li)\n",
    "print('')"
   ]
  },
  {
   "cell_type": "code",
   "execution_count": 10,
   "metadata": {},
   "outputs": [
    {
     "name": "stdout",
     "output_type": "stream",
     "text": [
      "[1, 2, 3, 4]\n",
      "[2, 4]\n",
      "\n"
     ]
    }
   ],
   "source": [
    "# 删除元素\n",
    "li = [1, 2, 3, 4, 5]\n",
    "li.pop()\n",
    "print(li)\n",
    "del(li[0])\n",
    "del(li[1])\n",
    "print(li)\n",
    "print('')"
   ]
  },
  {
   "cell_type": "code",
   "execution_count": 9,
   "metadata": {},
   "outputs": [
    {
     "name": "stdout",
     "output_type": "stream",
     "text": [
      "True\n",
      "False\n",
      "\n"
     ]
    }
   ],
   "source": [
    "# 元素是否存在\n",
    "li = [1, 2, 3, 4, 5]\n",
    "print(1 in li)\n",
    "print(6 in li)\n",
    "print('')"
   ]
  },
  {
   "cell_type": "code",
   "execution_count": 8,
   "metadata": {},
   "outputs": [
    {
     "name": "stdout",
     "output_type": "stream",
     "text": [
      "Empty\n",
      "\n"
     ]
    }
   ],
   "source": [
    "# 列表是否为空\n",
    "li = []\n",
    "if not li:\n",
    "    print('Empty')\n",
    "else:\n",
    "    print('Not empty')\n",
    "print('')"
   ]
  },
  {
   "cell_type": "code",
   "execution_count": 6,
   "metadata": {},
   "outputs": [
    {
     "name": "stdout",
     "output_type": "stream",
     "text": [
      "['a', 'b', 'c', 'd', 'E', 'F', 'g']\n",
      "abcdEFg\n",
      "\n"
     ]
    }
   ],
   "source": [
    "# 字符串\n",
    "s = 'abcdefg'\n",
    "li = list(s)\n",
    "li[4] = 'E'\n",
    "li[5] = 'F'\n",
    "print(li)\n",
    "s = ''.join(li)\n",
    "print(s)\n",
    "print('')"
   ]
  },
  {
   "cell_type": "code",
   "execution_count": 7,
   "metadata": {},
   "outputs": [
    {
     "name": "stdout",
     "output_type": "stream",
     "text": [
      "1\n",
      "2\n",
      "3\n",
      "1\n",
      "2\n",
      "3\n"
     ]
    }
   ],
   "source": [
    "# 遍历\n",
    "li = [1, 2, 3]\n",
    "for i in li:\n",
    "    print(i)\n",
    "for i in range(len(li)):\n",
    "    print(li[i])"
   ]
  },
  {
   "cell_type": "code",
   "execution_count": 5,
   "metadata": {},
   "outputs": [
    {
     "name": "stdout",
     "output_type": "stream",
     "text": [
      "['a', 'b', 'c', 'd', 'E', 'F', 'g']\n",
      "abcdEFg\n",
      "\n"
     ]
    }
   ],
   "source": [
    "# 字符串\n",
    "s = 'abcdefg'\n",
    "li = list(s)\n",
    "li[4] = 'E'\n",
    "li[5] = 'F'\n",
    "print(li)\n",
    "s = ''.join(li)\n",
    "print(s)\n",
    "print('')\n"
   ]
  },
  {
   "cell_type": "code",
   "execution_count": 4,
   "metadata": {},
   "outputs": [
    {
     "name": "stdout",
     "output_type": "stream",
     "text": [
      "1\n",
      "2\n",
      "3\n",
      "1\n",
      "2\n",
      "3\n"
     ]
    }
   ],
   "source": [
    "# 遍历\n",
    "li = [1, 2, 3]\n",
    "for i in li:\n",
    "    print(i)\n",
    "for i in range(len(li)):\n",
    "    print(li[i])"
   ]
  }
 ],
 "metadata": {
  "kernelspec": {
   "display_name": "Python 3",
   "language": "python",
   "name": "python3"
  },
  "language_info": {
   "codemirror_mode": {
    "name": "ipython",
    "version": 3
   },
   "file_extension": ".py",
   "mimetype": "text/x-python",
   "name": "python",
   "nbconvert_exporter": "python",
   "pygments_lexer": "ipython3",
   "version": "3.7.0"
  }
 },
 "nbformat": 4,
 "nbformat_minor": 2
}
