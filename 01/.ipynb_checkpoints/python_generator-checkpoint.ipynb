{
 "cells": [
  {
   "cell_type": "code",
   "execution_count": 3,
   "metadata": {},
   "outputs": [
    {
     "name": "stdout",
     "output_type": "stream",
     "text": [
      "<class 'range'>\n",
      "<class 'range'>\n",
      "0\n",
      "1\n",
      "4\n",
      "9\n",
      "16\n",
      "25\n",
      "36\n",
      "49\n",
      "64\n",
      "81\n",
      "\n"
     ]
    }
   ],
   "source": [
    "# 简单方法\n",
    "x = range(10)\n",
    "print(type(x))\n",
    "sx = (x * x for x in range(10))\n",
    "print(type(x))\n",
    "'''\n",
    "print(next(sx))\n",
    "print(next(sx))\n",
    "print(next(sx))\n",
    "print(next(sx))\n",
    "print(next(sx))\n",
    "print(next(sx))\n",
    "print(next(sx))\n",
    "print(next(sx))\n",
    "print(next(sx))\n",
    "print(next(sx))\n",
    "'''\n",
    "for i in sx:\n",
    "    print(i)\n",
    "print('')\n"
   ]
  },
  {
   "cell_type": "code",
   "execution_count": 4,
   "metadata": {},
   "outputs": [
    {
     "name": "stdout",
     "output_type": "stream",
     "text": [
      "1\n",
      "1\n",
      "2\n",
      "3\n",
      "5\n",
      "8\n",
      "13\n",
      "21\n",
      "34\n",
      "55\n"
     ]
    }
   ],
   "source": [
    "# 生成器实现fib数列\n",
    "def fib(limit):\n",
    "    n,a,b = 0,0,1\n",
    "    while n < limit:\n",
    "        yield b\n",
    "        a,b = b,a+b\n",
    "        n += 1\n",
    "    return 'done'\n",
    "for i in fib(10):\n",
    "    print(i)"
   ]
  }
 ],
 "metadata": {
  "kernelspec": {
   "display_name": "Python 3",
   "language": "python",
   "name": "python3"
  },
  "language_info": {
   "codemirror_mode": {
    "name": "ipython",
    "version": 3
   },
   "file_extension": ".py",
   "mimetype": "text/x-python",
   "name": "python",
   "nbconvert_exporter": "python",
   "pygments_lexer": "ipython3",
   "version": "3.7.0"
  }
 },
 "nbformat": 4,
 "nbformat_minor": 2
}
