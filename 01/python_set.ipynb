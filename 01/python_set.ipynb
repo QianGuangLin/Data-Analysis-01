{
 "cells": [
  {
   "cell_type": "code",
   "execution_count": 2,
   "metadata": {},
   "outputs": [
    {
     "name": "stdout",
     "output_type": "stream",
     "text": [
      "{1, 2, 3, 4, 5}\n",
      "{1, 2, 3, 4, 5}\n",
      "\n"
     ]
    }
   ],
   "source": [
    "# 初始化\n",
    "s_a = set([1, 2, 3, 4, 5])\n",
    "s_b = set([1, 1, 2, 2, 3, 4, 5])\n",
    "print(s_a)\n",
    "print(s_b)\n",
    "print('')"
   ]
  },
  {
   "cell_type": "code",
   "execution_count": 3,
   "metadata": {},
   "outputs": [
    {
     "name": "stdout",
     "output_type": "stream",
     "text": [
      "5\n",
      "5\n",
      "\n"
     ]
    }
   ],
   "source": [
    "# 获取长度\n",
    "print(len(s_a))\n",
    "print(len(s_a))\n",
    "print('')\n"
   ]
  },
  {
   "cell_type": "code",
   "execution_count": 6,
   "metadata": {},
   "outputs": [
    {
     "name": "stdout",
     "output_type": "stream",
     "text": [
      "{1, 2, 3, 4, 5, 6, 7, 8, 9}\n",
      "\n"
     ]
    }
   ],
   "source": [
    "# 添加元素\n",
    "s_a.add(6)\n",
    "s_a.add(6)\n",
    "s_a.update([5, 6, 7, 8, 9])\n",
    "print(s_a)\n",
    "print('')"
   ]
  },
  {
   "cell_type": "code",
   "execution_count": 7,
   "metadata": {},
   "outputs": [
    {
     "name": "stdout",
     "output_type": "stream",
     "text": [
      "{1, 2, 3, 4, 5, 6, 7}\n",
      "\n"
     ]
    }
   ],
   "source": [
    "# 删除元素\n",
    "s_a.remove(8)\n",
    "s_a.remove(9)\n",
    "print(s_a)\n",
    "print('')\n"
   ]
  },
  {
   "cell_type": "code",
   "execution_count": 8,
   "metadata": {},
   "outputs": [
    {
     "name": "stdout",
     "output_type": "stream",
     "text": [
      "True\n",
      "False\n",
      "\n"
     ]
    }
   ],
   "source": [
    "# 判断元素是否存在\n",
    "print(1 in s_a)\n",
    "print(10 in s_a)\n",
    "print('')"
   ]
  },
  {
   "cell_type": "code",
   "execution_count": 9,
   "metadata": {},
   "outputs": [
    {
     "name": "stdout",
     "output_type": "stream",
     "text": [
      "set is empty\n",
      "\n"
     ]
    }
   ],
   "source": [
    "# 判断集合是否为空\n",
    "s_a = set([])\n",
    "if not s_a:\n",
    "    print('set is empty')\n",
    "else:\n",
    "    print('set is not empty')\n",
    "print('')\n"
   ]
  },
  {
   "cell_type": "code",
   "execution_count": 10,
   "metadata": {},
   "outputs": [
    {
     "name": "stdout",
     "output_type": "stream",
     "text": [
      "1\n",
      "2\n",
      "3\n",
      "4\n",
      "5\n",
      "\n"
     ]
    }
   ],
   "source": [
    "# 遍历\n",
    "s_a = set([1,2,3,4,5])\n",
    "for i in s_a:\n",
    "    print(i)\n",
    "print('')\n"
   ]
  },
  {
   "cell_type": "code",
   "execution_count": 14,
   "metadata": {},
   "outputs": [
    {
     "name": "stdout",
     "output_type": "stream",
     "text": [
      "{1, 2, 3, 4, 5, 6, 7, 8}\n",
      "{1, 2, 3, 4, 5, 6, 7, 8}\n",
      "{4, 5}\n",
      "{4, 5}\n",
      "{1, 2, 3}\n",
      "{1, 2, 3}\n",
      "{1, 2, 3, 6, 7, 8}\n",
      "{1, 2, 3, 6, 7, 8}\n",
      "{1, 2, 3, 6, 7, 8}\n"
     ]
    }
   ],
   "source": [
    "# 集合操作\n",
    "s_a = set([1,2,3,4,5])\n",
    "s_b = set([4,5,6,7,8])\n",
    "# 并集\n",
    "print(s_a | s_b)\n",
    "print(s_a.union(s_b))\n",
    "# 交集\n",
    "print(s_a & s_b)\n",
    "print(s_a.intersection(s_b))\n",
    "# 差集 s_a - (s_a and s_b)\n",
    "print(s_a - s_b)\n",
    "print(s_a.difference(s_b))\n",
    "# 对称差\n",
    "print(s_a ^ s_b)\n",
    "print((s_a | s_b) - (s_a & s_b))\n",
    "print(s_a.symmetric_difference(s_b))\n"
   ]
  }
 ],
 "metadata": {
  "kernelspec": {
   "display_name": "Python 3",
   "language": "python",
   "name": "python3"
  },
  "language_info": {
   "codemirror_mode": {
    "name": "ipython",
    "version": 3
   },
   "file_extension": ".py",
   "mimetype": "text/x-python",
   "name": "python",
   "nbconvert_exporter": "python",
   "pygments_lexer": "ipython3",
   "version": "3.7.0"
  }
 },
 "nbformat": 4,
 "nbformat_minor": 2
}
