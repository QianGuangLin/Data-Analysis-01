{
 "cells": [
  {
   "cell_type": "code",
   "execution_count": 6,
   "metadata": {},
   "outputs": [
    {
     "name": "stdout",
     "output_type": "stream",
     "text": [
      "[0, 2, 4, 6, 8, 10, 12, 14, 16, 18]\n",
      "[0, 2, 4, 6, 8, 10, 12, 14, 16, 18]\n",
      "[0, 1, 4, 9, 16, 25, 36, 49, 64, 81]\n",
      "[0, 9, 36, 81]\n",
      "[(0, 0), (0, 1), (0, 2), (1, 0), (1, 1), (1, 2), (2, 0), (2, 1), (2, 2)]\n"
     ]
    }
   ],
   "source": [
    "# 一维数组(生成器概念)\n",
    "print([i * 2 for i in range(10)])\n",
    "# 等同于\n",
    "a = []\n",
    "for i in range(10):\n",
    "    a.append(i*2)\n",
    "print(a)\n",
    "\n",
    "\n",
    "print([i * i for i in range(10)])\n",
    "print([i * i for i in range(10) if (i % 3 ) == 0])\n",
    "print([(x,y) for x in range(3) for y in range(3)])\n",
    "print('')\n"
   ]
  },
  {
   "cell_type": "code",
   "execution_count": 11,
   "metadata": {},
   "outputs": [
    {
     "name": "stdout",
     "output_type": "stream",
     "text": [
      "[[3], [3, 3], [3, 3, 3]]\n",
      "[3, 3, 3]\n",
      "\n"
     ]
    }
   ],
   "source": [
    "# 二维数组\n",
    "a = [[3] * (i + 1) for i in range(3)]\n",
    "print(a[:])\n",
    "print(a[2])\n",
    "print('')"
   ]
  },
  {
   "cell_type": "code",
   "execution_count": 12,
   "metadata": {},
   "outputs": [
    {
     "name": "stdout",
     "output_type": "stream",
     "text": [
      "[[1, 100, 3], [1, 100, 3], [1, 100, 3]]\n",
      "\n"
     ]
    }
   ],
   "source": [
    "# 乘法的问题(复制3行，地址不变，仅引用)\n",
    "a = [[1,2,3]] * 3\n",
    "a[1][1] = 100\n",
    "print(a)\n",
    "print('')"
   ]
  },
  {
   "cell_type": "code",
   "execution_count": 13,
   "metadata": {},
   "outputs": [
    {
     "name": "stdout",
     "output_type": "stream",
     "text": [
      "[[1, 2, 3], [1, 100, 3], [1, 2, 3]]\n"
     ]
    }
   ],
   "source": [
    "# 解决方法\n",
    "a = [[1,2,3] for i in range(3)]\n",
    "a[1][1] = 100\n",
    "print(a)\n"
   ]
  }
 ],
 "metadata": {
  "kernelspec": {
   "display_name": "Python 3",
   "language": "python",
   "name": "python3"
  },
  "language_info": {
   "codemirror_mode": {
    "name": "ipython",
    "version": 3
   },
   "file_extension": ".py",
   "mimetype": "text/x-python",
   "name": "python",
   "nbconvert_exporter": "python",
   "pygments_lexer": "ipython3",
   "version": "3.7.0"
  }
 },
 "nbformat": 4,
 "nbformat_minor": 2
}
