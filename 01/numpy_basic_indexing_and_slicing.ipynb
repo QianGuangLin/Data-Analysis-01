{
 "cells": [
  {
   "cell_type": "code",
   "execution_count": 1,
   "metadata": {},
   "outputs": [
    {
     "name": "stdout",
     "output_type": "stream",
     "text": [
      "[7 8 9]\n",
      "3\n",
      "3\n",
      "\n"
     ]
    }
   ],
   "source": [
    "import numpy as np\n",
    "\n",
    "#通过索引访问二维数组某一行或某个元素\n",
    "arr = np.array([[1,2,3],[4,5,6],[7,8,9]])\n",
    "print(arr[2])\n",
    "print(arr[0][2])\n",
    "print(arr[0,2]) # 普通Python数组不能用\n",
    "print('')\n"
   ]
  },
  {
   "cell_type": "code",
   "execution_count": 3,
   "metadata": {},
   "outputs": [
    {
     "name": "stdout",
     "output_type": "stream",
     "text": [
      "[[1 2 3]\n",
      " [4 5 6]]\n",
      "[7 8 9]\n",
      "[[[42 42 42]\n",
      "  [42 42 42]]\n",
      "\n",
      " [[ 7  8  9]\n",
      "  [10 11 12]]]\n",
      "[[[ 1  2  3]\n",
      "  [ 4  5  6]]\n",
      "\n",
      " [[ 7  8  9]\n",
      "  [10 11 12]]]\n",
      "\n"
     ]
    }
   ],
   "source": [
    "# 对更高维数组的访问和操作\n",
    "arr = np.array([[[1,2,3],[4,5,6]],[[7,8,9],[10,11,12]]])\n",
    "print(arr[0]) # 结果是二维数组\n",
    "print(arr[1,0]) # 结果是二维数组\n",
    "old_values = arr[0].copy() # 复制arr[0]的值\n",
    "arr[0] = 42 # 把arr[0]所有的元素都设置为同一值\n",
    "print(arr)\n",
    "arr[0] = old_values # 把原来的数组写回去\n",
    "print(arr)\n",
    "print('')\n"
   ]
  },
  {
   "cell_type": "code",
   "execution_count": 4,
   "metadata": {},
   "outputs": [
    {
     "name": "stdout",
     "output_type": "stream",
     "text": [
      "[2 3 4 5 6]\n",
      "[[1 2 3]\n",
      " [4 5 6]]\n",
      "[[2 3]\n",
      " [5 6]]\n",
      "[[1]\n",
      " [4]\n",
      " [7]]\n",
      "[[1 0 0]\n",
      " [4 0 0]\n",
      " [7 8 9]]\n"
     ]
    }
   ],
   "source": [
    "# 使用切片访问和操作数组\n",
    "arr = np.array([1,2,3,4,5,6,7,8,9,10])\n",
    "print(arr[1:6]) # 打印元素arr[1]到arr[5],和list切片不同，这里是引用\n",
    "arr = np.array([[1,2,3],[4,5,6],[7,8,9]])\n",
    "print(arr[:2]) # 打印第1、2行\n",
    "print(arr[:2, 1:]) # 打印第1、2行，第2、3列\n",
    "print(arr[:, :1]) # 打印第1列所有元素\n",
    "arr[:2, 1:] = 0 # 第1、2行，第2、3列的元素设置为0\n",
    "print(arr)\n",
    "\n"
   ]
  }
 ],
 "metadata": {
  "kernelspec": {
   "display_name": "Python 3",
   "language": "python",
   "name": "python3"
  },
  "language_info": {
   "codemirror_mode": {
    "name": "ipython",
    "version": 3
   },
   "file_extension": ".py",
   "mimetype": "text/x-python",
   "name": "python",
   "nbconvert_exporter": "python",
   "pygments_lexer": "ipython3",
   "version": "3.7.0"
  }
 },
 "nbformat": 4,
 "nbformat_minor": 2
}
