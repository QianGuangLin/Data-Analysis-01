{
 "cells": [
  {
   "cell_type": "code",
   "execution_count": 2,
   "metadata": {},
   "outputs": [
    {
     "name": "stderr",
     "output_type": "stream",
     "text": [
      "No handles with labels found to put in legend.\n"
     ]
    },
    {
     "data": {
      "image/png": "[encoded data removed]",
      "text/plain": [
       "<Figure size 432x288 with 1 Axes>"
      ]
     },
     "metadata": {
      "needs_background": "light"
     },
     "output_type": "display_data"
    }
   ],
   "source": [
    "# coding=utf-8\n",
    " \n",
    "'''\n",
    "作者:Jairus Chan\n",
    "程序:多项式曲线拟合算法\n",
    "'''\n",
    "import matplotlib.pyplot as plt\n",
    "import math\n",
    "import numpy\n",
    "import random\n",
    " \n",
    "fig = plt.figure()\n",
    "ax = fig.add_subplot(111)\n",
    " \n",
    "#阶数为9阶\n",
    "order=9\n",
    " \n",
    "#生成曲线上的各个点\n",
    "x = numpy.arange(-1,1,0.02)\n",
    "y = [((a*a-1)*(a*a-1)*(a*a-1)+0.5)*numpy.sin(a*2) for a in x]\n",
    "#ax.plot(x,y,color='r',linestyle='-',marker='')\n",
    "#,label=\"(a*a-1)*(a*a-1)*(a*a-1)+0.5\"\n",
    " \n",
    "#生成的曲线上的各个点偏移一下，并放入到xa,ya中去\n",
    "i=0\n",
    "xa=[]\n",
    "ya=[]\n",
    "for xx in x:\n",
    "\tyy=y[i]\n",
    "\td=float(random.randint(60,140))/100\n",
    "\t#ax.plot([xx*d],[yy*d],color='m',linestyle='',marker='.')\n",
    "\ti+=1\n",
    "\txa.append(xx*d)\n",
    "\tya.append(yy*d)\n",
    " \n",
    "'''for i in range(0,5):\n",
    "\txx=float(random.randint(-100,100))/100\n",
    "\tyy=float(random.randint(-60,60))/100\n",
    "\txa.append(xx)\n",
    "\tya.append(yy)'''\n",
    " \n",
    "ax.plot(xa,ya,color='m',linestyle='',marker='.')\n",
    " \n",
    " \n",
    "#进行曲线拟合\n",
    "matA=[]\n",
    "for i in range(0,order+1):\n",
    "\tmatA1=[]\n",
    "\tfor j in range(0,order+1):\n",
    "\t\ttx=0.0\n",
    "\t\tfor k in range(0,len(xa)):\n",
    "\t\t\tdx=1.0\n",
    "\t\t\tfor l in range(0,j+i):\n",
    "\t\t\t\tdx=dx*xa[k]\n",
    "\t\t\ttx+=dx\n",
    "\t\tmatA1.append(tx)\n",
    "\tmatA.append(matA1)\n",
    " \n",
    "#print(len(xa))\n",
    "#print(matA[0][0])\n",
    "matA=numpy.array(matA)\n",
    " \n",
    "matB=[]\n",
    "for i in range(0,order+1):\n",
    "\tty=0.0\n",
    "\tfor k in range(0,len(xa)):\n",
    "\t\tdy=1.0\n",
    "\t\tfor l in range(0,i):\n",
    "\t\t\tdy=dy*xa[k]\n",
    "\t\tty+=ya[k]*dy\n",
    "\tmatB.append(ty)\n",
    " \n",
    "matB=numpy.array(matB)\n",
    " \n",
    "matAA=numpy.linalg.solve(matA,matB)\n",
    " \n",
    "#画出拟合后的曲线\n",
    "#print(matAA)\n",
    "xxa= numpy.arange(-1,1.06,0.01)\n",
    "yya=[]\n",
    "for i in range(0,len(xxa)):\n",
    "\tyy=0.0\n",
    "\tfor j in range(0,order+1):\n",
    "\t\tdy=1.0\n",
    "\t\tfor k in range(0,j):\n",
    "\t\t\tdy*=xxa[i]\n",
    "\t\tdy*=matAA[j]\n",
    "\t\tyy+=dy\n",
    "\tyya.append(yy)\n",
    "ax.plot(xxa,yya,color='g',linestyle='-',marker='')\n",
    " \n",
    "ax.legend()\n",
    "plt.show()\n"
   ]
  },
  {
   "cell_type": "code",
   "execution_count": null,
   "metadata": {},
   "outputs": [],
   "source": []
  }
 ],
 "metadata": {
  "kernelspec": {
   "display_name": "Python 3",
   "language": "python",
   "name": "python3"
  },
  "language_info": {
   "codemirror_mode": {
    "name": "ipython",
    "version": 3
   },
   "file_extension": ".py",
   "mimetype": "text/x-python",
   "name": "python",
   "nbconvert_exporter": "python",
   "pygments_lexer": "ipython3",
   "version": "3.7.0"
  }
 },
 "nbformat": 4,
 "nbformat_minor": 2
}
