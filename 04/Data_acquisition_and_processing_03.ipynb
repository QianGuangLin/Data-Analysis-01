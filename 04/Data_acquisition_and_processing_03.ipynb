{
 "cells": [
  {
   "cell_type": "markdown",
   "metadata": {},
   "source": [
    "## 爬虫抓取与解析:链家网案例"
   ]
  },
  {
   "cell_type": "markdown",
   "metadata": {},
   "source": [
    "来动手做一个练习，做到学以致用。\n",
    "这次，我们来爬取链家网的一些内容，用的工具依旧是大家熟悉的requests和BeautifulSoup"
   ]
  },
  {
   "cell_type": "markdown",
   "metadata": {},
   "source": [
    "### 1.准备工作"
   ]
  },
  {
   "cell_type": "markdown",
   "metadata": {},
   "source": [
    "编写爬虫前的准备工作，我们需要导入用到的库，这里主要使用的是requests和BeautifulSoup两个。还有一个Time库，负责设置每次抓取的休息时间。"
   ]
  },
  {
   "cell_type": "code",
   "execution_count": 1,
   "metadata": {},
   "outputs": [],
   "source": [
    "import requests\n",
    "import time\n",
    "from bs4 import BeautifulSoup"
   ]
  },
  {
   "cell_type": "markdown",
   "metadata": {},
   "source": [
    "### 2.抓取列表页"
   ]
  },
  {
   "cell_type": "markdown",
   "metadata": {},
   "source": [
    "开始抓取前当然应该了解一下目标网站URL结构咯。\n",
    "链家网的二手房列表页面共有100个，URL结构为http://bj.lianjia.com/ershoufang/pg9/ 其中\n",
    "\n",
    "bj表示城市\n",
    "/ershoufang/是频道名称\n",
    "pg9是页面码。\n",
    "我们要抓取的是北京的二手房频道，所以前面的部分不会变，属于固定部分，后面的页面码需要在1-100间变化，属于可变部分。将URL分为两部分，前面的固定部分赋值给url，后面的可变部分使用for循环遍历页面。"
   ]
  },
  {
   "cell_type": "code",
   "execution_count": 2,
   "metadata": {},
   "outputs": [],
   "source": [
    "# 设置列表页URL的固定部分\n",
    "url = 'https://bj.lianjia.com/ershoufang/'\n",
    "# 设置页面页的可变部分\n",
    "page = ('pg')"
   ]
  },
  {
   "cell_type": "markdown",
   "metadata": {},
   "source": [
    "这里提一个小小的醒，我们最好在http请求中设置一个头部信息，否则很容易被封ip。头部信息网上有很多现成的，也可以使用httpwatch等工具来查看。"
   ]
  },
  {
   "cell_type": "code",
   "execution_count": 4,
   "metadata": {},
   "outputs": [],
   "source": [
    "#设置请求头部信息\n",
    "headers = {'User-Agent':'Mozilla/5.0 (Windows NT 6.1) AppleWebKit/537.11 (KHTML, like Gecko) Chrome/23.0.1271.64 Safari/537.11',\n",
    "'Accept':'text/html;q=0.9,*/*;q=0.8',\n",
    "'Accept-Charset':'ISO-8859-1,utf-8;q=0.7,*;q=0.3',\n",
    "'Accept-Encoding':'gzip',\n",
    "'Connection':'close',\n",
    "'Referer':'http://www.baidu.com/link?url=_andhfsjjjKRgEWkj7i9cFmYYGsisrnm2A-TN3XZDQXxvGsM9k9ZZSnikW2Yds4s&amp;amp;wd=&amp;amp;eqid=c3435a7d00146bd600000003582bfd1f'\n",
    "}"
   ]
  },
  {
   "cell_type": "markdown",
   "metadata": {},
   "source": [
    "我们使用for循环生成1-100的数字，转化格式后与前面的URL固定部分拼成要抓取的URL。这里我们设置每两个页面间隔0.5秒。抓取到的页面保存在html中。"
   ]
  },
  {
   "cell_type": "code",
   "execution_count": 5,
   "metadata": {},
   "outputs": [],
   "source": [
    "# 循环抓取列表页信息\n",
    "for i in range(1,2):\n",
    "    if i == 1:\n",
    "        i = str(i)\n",
    "        a = (url + page + i + '/')\n",
    "        r = requests.get(url = a, headers = headers)\n",
    "        html = r.content\n",
    "    else:\n",
    "        i = str(i)\n",
    "        a = (url + page + i + '/')\n",
    "        r = requests.get(url = a, headers = headers)\n",
    "        html2 = r.content\n",
    "        html = html + html2\n",
    "    \n",
    "    # 每次间隔1秒\n",
    "    time.sleep(1)"
   ]
  },
  {
   "cell_type": "markdown",
   "metadata": {},
   "source": [
    "### 页面解析"
   ]
  },
  {
   "cell_type": "markdown",
   "metadata": {},
   "source": [
    "页面抓取的工作算是完成了，内容在html中，下一步就要进行页面解析了。我们依旧使用BeautifulSoup对页面进行解析。"
   ]
  },
  {
   "cell_type": "code",
   "execution_count": 6,
   "metadata": {},
   "outputs": [],
   "source": [
    "# 解析抓取的页面内容\n",
    "lj = BeautifulSoup(html, 'html.parser')"
   ]
  },
  {
   "cell_type": "markdown",
   "metadata": {},
   "source": [
    "完成页面解析后就可以对页面中的关键信息进行提取了。下面我们分别对房源的总价，房源信息和关注度三部分进行提取。 把页面div标签中class=priceInfo的部分提取出来，并使用for循环将其中每个房源的总价数据存在tp中。"
   ]
  },
  {
   "cell_type": "code",
   "execution_count": 9,
   "metadata": {},
   "outputs": [],
   "source": [
    "# 提取房源总价\n",
    "price = lj.find_all('div',class_ = 'totalPrice')\n",
    "# price\n",
    "tp = []\n",
    "for a in price:\n",
    "    totalPrice = a.span.string\n",
    "    tp.append(totalPrice)"
   ]
  },
  {
   "cell_type": "markdown",
   "metadata": {},
   "source": [
    "来看看爬下来的房价数据"
   ]
  },
  {
   "cell_type": "code",
   "execution_count": 10,
   "metadata": {},
   "outputs": [
    {
     "data": {
      "text/plain": [
       "['305',\n",
       " '830',\n",
       " '435',\n",
       " '935',\n",
       " '408',\n",
       " '265',\n",
       " '580',\n",
       " '680',\n",
       " '595',\n",
       " '950',\n",
       " '690',\n",
       " '274',\n",
       " '518',\n",
       " '455',\n",
       " '265',\n",
       " '430',\n",
       " '750',\n",
       " '520',\n",
       " '1490',\n",
       " '365',\n",
       " '718',\n",
       " '530',\n",
       " '520',\n",
       " '850',\n",
       " '392',\n",
       " '620',\n",
       " '588',\n",
       " '560',\n",
       " '550',\n",
       " '540']"
      ]
     },
     "execution_count": 10,
     "metadata": {},
     "output_type": "execute_result"
    }
   ],
   "source": [
    "tp"
   ]
  },
  {
   "cell_type": "markdown",
   "metadata": {},
   "source": [
    "提取房源信息和关注度的方法与提取房源价格的方法类似，下面是具体的代码，房源信息存储在hi中，关注度存储在fi中。"
   ]
  },
  {
   "cell_type": "code",
   "execution_count": 17,
   "metadata": {},
   "outputs": [],
   "source": [
    "# 提取房源信息\n",
    "# houseInfo = lj.find_all('div', class_ = 'houseInfo')\n",
    "houseInfo = lj.find_all('div', attrs = {'class':'houseInfo'})\n",
    "# houseInfo\n",
    "hi = []\n",
    "for b in houseInfo:\n",
    "    house = b.get_text()\n",
    "    hi.append(house)\n",
    "\n",
    "# hi"
   ]
  },
  {
   "cell_type": "markdown",
   "metadata": {},
   "source": [
    "来看看房源信息"
   ]
  },
  {
   "cell_type": "code",
   "execution_count": 19,
   "metadata": {},
   "outputs": [
    {
     "name": "stdout",
     "output_type": "stream",
     "text": [
      "福苑小区 /3室1厅/82.02平米/南 北/精装/无电梯\n",
      "今日家园 /3室2厅/141.31平米/西 北/精装/有电梯\n",
      "安宁里南区 /2室1厅/69.51平米/东 西/简装/无电梯\n",
      "澳洲康都 /3室2厅/129.92平米/西南/简装/有电梯\n",
      "天竺花园 /3室2厅/108.97平米/南 北/简装/无电梯\n",
      "惠泽家园 /2室1厅/90.22平米/南 北/简装/无电梯\n",
      "金鱼池东区 /2室1厅/70.42平米/南 北/简装/无电梯\n",
      "丽泽雅园 /2室1厅/107.59平米/西南/精装/有电梯\n",
      "青秀城 /2室1厅/85.91平米/南 北/简装/有电梯\n",
      "依莲轩 /2室1厅/108.9平米/西南/精装/有电梯\n",
      "青秀城 /3室1厅/90.6平米/南 北/精装/有电梯\n",
      "加州水郡三期 /2室1厅/87.77平米/西/精装/有电梯\n",
      "优筑 /2室1厅/77.51平米/东北/精装/有电梯\n",
      "青秀雅苑 /2室1厅/89.89平米/南 北/简装/有电梯\n",
      "德露苑 /2室1厅/71.4平米/南/简装/无电梯\n",
      "育芳园 /3室1厅/76.1平米/南 北/简装/无电梯\n",
      "庄维花园 /3室1厅/135.88平米/东南/简装/有电梯\n",
      "明月嘉园 /2室1厅/83.19平米/东北/简装/有电梯\n",
      "丽都水岸 /3室1厅/139.7平米/南 西/精装/有电梯\n",
      "龙华园 /2室1厅/65.94平米/南 北/毛坯/无电梯\n",
      "庄维多摩市二期 /2室2厅/116.49平米/西南/精装/有电梯\n",
      "郁花园二里 /2室2厅/107.12平米/南 北/精装/无电梯\n",
      "怡海花园富泽园 /2室1厅/87.71平米/南 北/简装/有电梯\n",
      "奥林匹克花园三期 /3室2厅/136.98平米/南 北/精装/有电梯\n",
      "粮食局宿舍 /2室1厅/66.6平米/南 北/简装\n",
      "文体路38号院 /3室1厅/103.6平米/南 西 东北/简装/有电梯\n",
      "国美第一城3号院 /2室1厅/104.38平米/东南/其他/有电梯\n",
      "龙腾苑六区 /3室2厅/116.9平米/东 南 北/精装/无电梯\n",
      "三环新城8号院 /2室1厅/96.72平米/西南/精装/有电梯\n",
      "新华街三里 /2室2厅/99.85平米/南 北/精装/无电梯\n"
     ]
    }
   ],
   "source": [
    "for item in hi:\n",
    "    print(item)"
   ]
  },
  {
   "cell_type": "code",
   "execution_count": 46,
   "metadata": {},
   "outputs": [
    {
     "data": {
      "text/plain": [
       "<div class=\"followInfo\">44人关注<span class=\"divide\">/</span>14次带看<div class=\"tag\"><span class=\"vr\">VR房源</span><span class=\"taxfree\">房本满五年</span><span class=\"haskey\">随时看房</span></div><div class=\"priceInfo\"><div class=\"totalPrice\"><span>305</span>万</div><div class=\"unitPrice\" data-hid=\"101103288789\" data-price=\"37187\" data-rid=\"1111027374435\"><span>单价37187元/平米</span></div></div></div>"
      ]
     },
     "execution_count": 46,
     "metadata": {},
     "output_type": "execute_result"
    }
   ],
   "source": [
    "# 提取房源关注度\n",
    "followInfo = lj.find_all('div', attrs = {'class':'followInfo'})\n",
    "\n",
    "followInfo\n",
    "\n",
    "# fi = []\n",
    "# for c in followInfo:\n",
    "#     follow = c.get_text()\n",
    "#     fi.append(follow)\n",
    "\n",
    "# fi"
   ]
  },
  {
   "cell_type": "markdown",
   "metadata": {},
   "source": [
    "再来看看关注度状况"
   ]
  },
  {
   "cell_type": "code",
   "execution_count": 36,
   "metadata": {},
   "outputs": [
    {
     "name": "stdout",
     "output_type": "stream",
     "text": [
      "44人关注/14次带看VR房源房本满五年随时看房305万单价37187元/平米\n",
      "82人关注/13次带看VR房源房本满五年随时看房830万单价58737元/平米\n",
      "123人关注/14次带看VR房源房本满五年随时看房435万单价62581元/平米\n",
      "62人关注/17次带看近地铁VR房源房本满五年随时看房935万单价71968元/平米\n",
      "82人关注/14次带看VR房源房本满五年随时看房408万单价37442元/平米\n",
      "61人关注/14次带看VR房源房本满五年随时看房265万单价29373元/平米\n",
      "133人关注/23次带看近地铁VR房源房本满五年随时看房580万单价82363元/平米\n",
      "50人关注/15次带看VR房源房本满五年随时看房680万单价63203元/平米\n",
      "37人关注/17次带看VR房源房本满五年随时看房595万单价69259元/平米\n",
      "23人关注/13次带看近地铁VR房源房本满五年随时看房950万单价87236元/平米\n",
      "42人关注/17次带看VR房源房本满五年随时看房690万单价76159元/平米\n",
      "74人关注/23次带看VR房源房本满五年随时看房274万单价31218元/平米\n",
      "36人关注/17次带看近地铁VR房源房本满五年随时看房518万单价66831元/平米\n",
      "61人关注/16次带看VR房源房本满五年随时看房455万单价50618元/平米\n",
      "44人关注/13次带看VR房源房本满五年随时看房265万单价37115元/平米\n",
      "22人关注/14次带看近地铁VR房源房本满五年随时看房430万单价56505元/平米\n",
      "45人关注/19次带看近地铁VR房源房本满五年随时看房750万单价55196元/平米\n",
      "99人关注/3次带看近地铁VR房源房本满五年520万单价62508元/平米\n",
      "108人关注/2次带看VR房源房本满五年1490万单价106658元/平米\n",
      "69人关注/13次带看近地铁VR房源房本满五年365万单价55354元/平米\n",
      "15人关注/15次带看近地铁VR房源房本满两年718万单价61637元/平米\n",
      "11人关注/13次带看近地铁VR房源房本满五年530万单价49478元/平米\n",
      "37人关注/14次带看近地铁VR房源房本满五年520万单价59287元/平米\n",
      "28人关注/15次带看VR房源房本满五年850万单价62053元/平米\n",
      "6人关注/13次带看VR房源房本满五年392万单价58859元/平米\n",
      "6人关注/8次带看近地铁VR房源房本满五年620万单价59846元/平米\n",
      "13人关注/14次带看VR房源房本满两年588万单价56333元/平米\n",
      "11人关注/12次带看近地铁VR房源房本满五年560万单价47905元/平米\n",
      "12人关注/8次带看近地铁VR房源房本满五年550万单价56866元/平米\n",
      "7人关注/7次带看近地铁VR房源房本满五年540万单价54082元/平米\n"
     ]
    }
   ],
   "source": [
    "for item in fi:\n",
    "    print(item)"
   ]
  },
  {
   "cell_type": "markdown",
   "metadata": {},
   "source": [
    "### 清洗数据并整理到数据表中"
   ]
  },
  {
   "cell_type": "markdown",
   "metadata": {},
   "source": [
    "我们将之前爬取到的信息进行汇总，并导入pandas之中生成数据表。便于后面的分析。"
   ]
  },
  {
   "cell_type": "code",
   "execution_count": 38,
   "metadata": {},
   "outputs": [
    {
     "data": {
      "text/html": [
       "<div>\n",
       "<style scoped>\n",
       "    .dataframe tbody tr th:only-of-type {\n",
       "        vertical-align: middle;\n",
       "    }\n",
       "\n",
       "    .dataframe tbody tr th {\n",
       "        vertical-align: top;\n",
       "    }\n",
       "\n",
       "    .dataframe thead th {\n",
       "        text-align: right;\n",
       "    }\n",
       "</style>\n",
       "<table border=\"1\" class=\"dataframe\">\n",
       "  <thead>\n",
       "    <tr style=\"text-align: right;\">\n",
       "      <th></th>\n",
       "      <th>totalprice</th>\n",
       "      <th>houseinfo</th>\n",
       "      <th>followinfo</th>\n",
       "    </tr>\n",
       "  </thead>\n",
       "  <tbody>\n",
       "    <tr>\n",
       "      <th>0</th>\n",
       "      <td>305</td>\n",
       "      <td>福苑小区 /3室1厅/82.02平米/南 北/精装/无电梯</td>\n",
       "      <td>44人关注/14次带看VR房源房本满五年随时看房305万单价37187元/平米</td>\n",
       "    </tr>\n",
       "    <tr>\n",
       "      <th>1</th>\n",
       "      <td>830</td>\n",
       "      <td>今日家园 /3室2厅/141.31平米/西 北/精装/有电梯</td>\n",
       "      <td>82人关注/13次带看VR房源房本满五年随时看房830万单价58737元/平米</td>\n",
       "    </tr>\n",
       "    <tr>\n",
       "      <th>2</th>\n",
       "      <td>435</td>\n",
       "      <td>安宁里南区 /2室1厅/69.51平米/东 西/简装/无电梯</td>\n",
       "      <td>123人关注/14次带看VR房源房本满五年随时看房435万单价62581元/平米</td>\n",
       "    </tr>\n",
       "    <tr>\n",
       "      <th>3</th>\n",
       "      <td>935</td>\n",
       "      <td>澳洲康都 /3室2厅/129.92平米/西南/简装/有电梯</td>\n",
       "      <td>62人关注/17次带看近地铁VR房源房本满五年随时看房935万单价71968元/平米</td>\n",
       "    </tr>\n",
       "    <tr>\n",
       "      <th>4</th>\n",
       "      <td>408</td>\n",
       "      <td>天竺花园 /3室2厅/108.97平米/南 北/简装/无电梯</td>\n",
       "      <td>82人关注/14次带看VR房源房本满五年随时看房408万单价37442元/平米</td>\n",
       "    </tr>\n",
       "  </tbody>\n",
       "</table>\n",
       "</div>"
      ],
      "text/plain": [
       "  totalprice                       houseinfo  \\\n",
       "0        305   福苑小区 /3室1厅/82.02平米/南 北/精装/无电梯   \n",
       "1        830  今日家园 /3室2厅/141.31平米/西 北/精装/有电梯   \n",
       "2        435  安宁里南区 /2室1厅/69.51平米/东 西/简装/无电梯   \n",
       "3        935   澳洲康都 /3室2厅/129.92平米/西南/简装/有电梯   \n",
       "4        408  天竺花园 /3室2厅/108.97平米/南 北/简装/无电梯   \n",
       "\n",
       "                                   followinfo  \n",
       "0     44人关注/14次带看VR房源房本满五年随时看房305万单价37187元/平米  \n",
       "1     82人关注/13次带看VR房源房本满五年随时看房830万单价58737元/平米  \n",
       "2    123人关注/14次带看VR房源房本满五年随时看房435万单价62581元/平米  \n",
       "3  62人关注/17次带看近地铁VR房源房本满五年随时看房935万单价71968元/平米  \n",
       "4     82人关注/14次带看VR房源房本满五年随时看房408万单价37442元/平米  "
      ]
     },
     "execution_count": 38,
     "metadata": {},
     "output_type": "execute_result"
    }
   ],
   "source": [
    "# 导入pandas库\n",
    "import pandas as pd\n",
    "# 创建数据表\n",
    "house = pd.DataFrame({'totalprice':tp, 'houseinfo':hi, 'followinfo':fi})\n",
    "# 查看数据表的内容\n",
    "house.head()"
   ]
  },
  {
   "cell_type": "markdown",
   "metadata": {},
   "source": [
    "很尴尬的是，大家看得到，很多信息是糊在一块的，不能直接使用，所以咱们再做一些数据提取和清洗的工作。如房源信息，在表中每个房源的小区名称，户型，面积，朝向等信息都在一个字段中，无法直接使用。需要先进行分列操作。这里的规则比较明显，每个信息间都是以竖线分割的，因此我们只需要以竖线进行分列即可。"
   ]
  },
  {
   "cell_type": "code",
   "execution_count": 39,
   "metadata": {},
   "outputs": [],
   "source": [
    "# 对房源信息进行分列\n",
    "houseinfo_split = pd.DataFrame((x.split('/') for x in house.houseinfo), index = house.index, columns= ['xiaoqu','huxing','mianji','chaoxiang','zhuangxiu','dianti'])"
   ]
  },
  {
   "cell_type": "markdown",
   "metadata": {},
   "source": [
    "现在再来看看我们整理好的数据"
   ]
  },
  {
   "cell_type": "code",
   "execution_count": 41,
   "metadata": {},
   "outputs": [
    {
     "data": {
      "text/html": [
       "<div>\n",
       "<style scoped>\n",
       "    .dataframe tbody tr th:only-of-type {\n",
       "        vertical-align: middle;\n",
       "    }\n",
       "\n",
       "    .dataframe tbody tr th {\n",
       "        vertical-align: top;\n",
       "    }\n",
       "\n",
       "    .dataframe thead th {\n",
       "        text-align: right;\n",
       "    }\n",
       "</style>\n",
       "<table border=\"1\" class=\"dataframe\">\n",
       "  <thead>\n",
       "    <tr style=\"text-align: right;\">\n",
       "      <th></th>\n",
       "      <th>xiaoqu</th>\n",
       "      <th>huxing</th>\n",
       "      <th>mianji</th>\n",
       "      <th>chaoxiang</th>\n",
       "      <th>zhuangxiu</th>\n",
       "      <th>dianti</th>\n",
       "    </tr>\n",
       "  </thead>\n",
       "  <tbody>\n",
       "    <tr>\n",
       "      <th>0</th>\n",
       "      <td>福苑小区</td>\n",
       "      <td>3室1厅</td>\n",
       "      <td>82.02平米</td>\n",
       "      <td>南 北</td>\n",
       "      <td>精装</td>\n",
       "      <td>无电梯</td>\n",
       "    </tr>\n",
       "    <tr>\n",
       "      <th>1</th>\n",
       "      <td>今日家园</td>\n",
       "      <td>3室2厅</td>\n",
       "      <td>141.31平米</td>\n",
       "      <td>西 北</td>\n",
       "      <td>精装</td>\n",
       "      <td>有电梯</td>\n",
       "    </tr>\n",
       "    <tr>\n",
       "      <th>2</th>\n",
       "      <td>安宁里南区</td>\n",
       "      <td>2室1厅</td>\n",
       "      <td>69.51平米</td>\n",
       "      <td>东 西</td>\n",
       "      <td>简装</td>\n",
       "      <td>无电梯</td>\n",
       "    </tr>\n",
       "    <tr>\n",
       "      <th>3</th>\n",
       "      <td>澳洲康都</td>\n",
       "      <td>3室2厅</td>\n",
       "      <td>129.92平米</td>\n",
       "      <td>西南</td>\n",
       "      <td>简装</td>\n",
       "      <td>有电梯</td>\n",
       "    </tr>\n",
       "    <tr>\n",
       "      <th>4</th>\n",
       "      <td>天竺花园</td>\n",
       "      <td>3室2厅</td>\n",
       "      <td>108.97平米</td>\n",
       "      <td>南 北</td>\n",
       "      <td>简装</td>\n",
       "      <td>无电梯</td>\n",
       "    </tr>\n",
       "  </tbody>\n",
       "</table>\n",
       "</div>"
      ],
      "text/plain": [
       "   xiaoqu huxing    mianji chaoxiang zhuangxiu dianti\n",
       "0   福苑小区    3室1厅   82.02平米       南 北        精装    无电梯\n",
       "1   今日家园    3室2厅  141.31平米       西 北        精装    有电梯\n",
       "2  安宁里南区    2室1厅   69.51平米       东 西        简装    无电梯\n",
       "3   澳洲康都    3室2厅  129.92平米        西南        简装    有电梯\n",
       "4   天竺花园    3室2厅  108.97平米       南 北        简装    无电梯"
      ]
     },
     "execution_count": 41,
     "metadata": {},
     "output_type": "execute_result"
    }
   ],
   "source": [
    "# 查看分列结果\n",
    "houseinfo_split.head()"
   ]
  },
  {
   "cell_type": "markdown",
   "metadata": {},
   "source": [
    "把拆分后的数据拼接回原始数据中"
   ]
  },
  {
   "cell_type": "code",
   "execution_count": 42,
   "metadata": {},
   "outputs": [],
   "source": [
    "# 将分列结果拼接回原始数据表\n",
    "house = pd.merge(house,houseinfo_split,right_index = True, left_index = True )"
   ]
  },
  {
   "cell_type": "code",
   "execution_count": 44,
   "metadata": {},
   "outputs": [
    {
     "data": {
      "text/html": [
       "<div>\n",
       "<style scoped>\n",
       "    .dataframe tbody tr th:only-of-type {\n",
       "        vertical-align: middle;\n",
       "    }\n",
       "\n",
       "    .dataframe tbody tr th {\n",
       "        vertical-align: top;\n",
       "    }\n",
       "\n",
       "    .dataframe thead th {\n",
       "        text-align: right;\n",
       "    }\n",
       "</style>\n",
       "<table border=\"1\" class=\"dataframe\">\n",
       "  <thead>\n",
       "    <tr style=\"text-align: right;\">\n",
       "      <th></th>\n",
       "      <th>totalprice</th>\n",
       "      <th>houseinfo</th>\n",
       "      <th>followinfo</th>\n",
       "      <th>xiaoqu</th>\n",
       "      <th>huxing</th>\n",
       "      <th>mianji</th>\n",
       "      <th>chaoxiang</th>\n",
       "      <th>zhuangxiu</th>\n",
       "      <th>dianti</th>\n",
       "    </tr>\n",
       "  </thead>\n",
       "  <tbody>\n",
       "    <tr>\n",
       "      <th>0</th>\n",
       "      <td>305</td>\n",
       "      <td>福苑小区 /3室1厅/82.02平米/南 北/精装/无电梯</td>\n",
       "      <td>44人关注/14次带看VR房源房本满五年随时看房305万单价37187元/平米</td>\n",
       "      <td>福苑小区</td>\n",
       "      <td>3室1厅</td>\n",
       "      <td>82.02平米</td>\n",
       "      <td>南 北</td>\n",
       "      <td>精装</td>\n",
       "      <td>无电梯</td>\n",
       "    </tr>\n",
       "    <tr>\n",
       "      <th>1</th>\n",
       "      <td>830</td>\n",
       "      <td>今日家园 /3室2厅/141.31平米/西 北/精装/有电梯</td>\n",
       "      <td>82人关注/13次带看VR房源房本满五年随时看房830万单价58737元/平米</td>\n",
       "      <td>今日家园</td>\n",
       "      <td>3室2厅</td>\n",
       "      <td>141.31平米</td>\n",
       "      <td>西 北</td>\n",
       "      <td>精装</td>\n",
       "      <td>有电梯</td>\n",
       "    </tr>\n",
       "    <tr>\n",
       "      <th>2</th>\n",
       "      <td>435</td>\n",
       "      <td>安宁里南区 /2室1厅/69.51平米/东 西/简装/无电梯</td>\n",
       "      <td>123人关注/14次带看VR房源房本满五年随时看房435万单价62581元/平米</td>\n",
       "      <td>安宁里南区</td>\n",
       "      <td>2室1厅</td>\n",
       "      <td>69.51平米</td>\n",
       "      <td>东 西</td>\n",
       "      <td>简装</td>\n",
       "      <td>无电梯</td>\n",
       "    </tr>\n",
       "    <tr>\n",
       "      <th>3</th>\n",
       "      <td>935</td>\n",
       "      <td>澳洲康都 /3室2厅/129.92平米/西南/简装/有电梯</td>\n",
       "      <td>62人关注/17次带看近地铁VR房源房本满五年随时看房935万单价71968元/平米</td>\n",
       "      <td>澳洲康都</td>\n",
       "      <td>3室2厅</td>\n",
       "      <td>129.92平米</td>\n",
       "      <td>西南</td>\n",
       "      <td>简装</td>\n",
       "      <td>有电梯</td>\n",
       "    </tr>\n",
       "    <tr>\n",
       "      <th>4</th>\n",
       "      <td>408</td>\n",
       "      <td>天竺花园 /3室2厅/108.97平米/南 北/简装/无电梯</td>\n",
       "      <td>82人关注/14次带看VR房源房本满五年随时看房408万单价37442元/平米</td>\n",
       "      <td>天竺花园</td>\n",
       "      <td>3室2厅</td>\n",
       "      <td>108.97平米</td>\n",
       "      <td>南 北</td>\n",
       "      <td>简装</td>\n",
       "      <td>无电梯</td>\n",
       "    </tr>\n",
       "  </tbody>\n",
       "</table>\n",
       "</div>"
      ],
      "text/plain": [
       "  totalprice                       houseinfo  \\\n",
       "0        305   福苑小区 /3室1厅/82.02平米/南 北/精装/无电梯   \n",
       "1        830  今日家园 /3室2厅/141.31平米/西 北/精装/有电梯   \n",
       "2        435  安宁里南区 /2室1厅/69.51平米/东 西/简装/无电梯   \n",
       "3        935   澳洲康都 /3室2厅/129.92平米/西南/简装/有电梯   \n",
       "4        408  天竺花园 /3室2厅/108.97平米/南 北/简装/无电梯   \n",
       "\n",
       "                                   followinfo  xiaoqu huxing    mianji  \\\n",
       "0     44人关注/14次带看VR房源房本满五年随时看房305万单价37187元/平米   福苑小区    3室1厅   82.02平米   \n",
       "1     82人关注/13次带看VR房源房本满五年随时看房830万单价58737元/平米   今日家园    3室2厅  141.31平米   \n",
       "2    123人关注/14次带看VR房源房本满五年随时看房435万单价62581元/平米  安宁里南区    2室1厅   69.51平米   \n",
       "3  62人关注/17次带看近地铁VR房源房本满五年随时看房935万单价71968元/平米   澳洲康都    3室2厅  129.92平米   \n",
       "4     82人关注/14次带看VR房源房本满五年随时看房408万单价37442元/平米   天竺花园    3室2厅  108.97平米   \n",
       "\n",
       "  chaoxiang zhuangxiu dianti  \n",
       "0       南 北        精装    无电梯  \n",
       "1       西 北        精装    有电梯  \n",
       "2       东 西        简装    无电梯  \n",
       "3        西南        简装    有电梯  \n",
       "4       南 北        简装    无电梯  "
      ]
     },
     "execution_count": 44,
     "metadata": {},
     "output_type": "execute_result"
    }
   ],
   "source": [
    "house.head()"
   ]
  },
  {
   "cell_type": "markdown",
   "metadata": {},
   "source": [
    "使用相同的方法对房源关注度字段进行分列和拼接操作。这里的分列规则是斜杠。"
   ]
  },
  {
   "cell_type": "code",
   "execution_count": null,
   "metadata": {},
   "outputs": [],
   "source": [
    "# 对房源关注度进行分列\n",
    "followinfo_split = pd.DataFrame((x.split('/') for x in house.followinfo),index=house.index,columns=['guanzhu','daikan','fabu'])"
   ]
  }
 ],
 "metadata": {
  "kernelspec": {
   "display_name": "Python 3",
   "language": "python",
   "name": "python3"
  },
  "language_info": {
   "codemirror_mode": {
    "name": "ipython",
    "version": 3
   },
   "file_extension": ".py",
   "mimetype": "text/x-python",
   "name": "python",
   "nbconvert_exporter": "python",
   "pygments_lexer": "ipython3",
   "version": "3.7.0"
  }
 },
 "nbformat": 4,
 "nbformat_minor": 2
}
